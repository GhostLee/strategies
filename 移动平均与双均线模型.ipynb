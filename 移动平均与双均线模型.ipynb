{
 "cells": [
  {
   "cell_type": "markdown",
   "metadata": {},
   "source": [
    "# 移动平均与双均线模型"
   ]
  },
  {
   "cell_type": "code",
   "execution_count": null,
   "metadata": {},
   "outputs": [],
   "source": []
  },
  {
   "cell_type": "code",
   "execution_count": 3,
   "metadata": {},
   "outputs": [],
   "source": [
    "%matplotlib inline\n",
    "import matplotlib.pyplot as plt\n",
    "import seaborn\n",
    "import matplotlib as mpl\n",
    "mpl.rcParams['font.family'] = 'serif' #解决一些字体显示乱码问题\n",
    "import warnings;\n",
    "warnings.simplefilter('ignore')  #忽略警告信息；"
   ]
  },
  {
   "cell_type": "code",
   "execution_count": 4,
   "metadata": {},
   "outputs": [],
   "source": [
    "import numpy as np\n",
    "import pandas as pd\n",
    "import tushare as ts"
   ]
  },
  {
   "cell_type": "markdown",
   "metadata": {},
   "source": [
    "## 前导学习"
   ]
  },
  {
   "cell_type": "code",
   "execution_count": null,
   "metadata": {},
   "outputs": [],
   "source": []
  },
  {
   "cell_type": "code",
   "execution_count": 5,
   "metadata": {},
   "outputs": [],
   "source": [
    "# Tushare API\n",
    "data = ts.get_k_data('600030', start='2015-01-01', end= '2019-12-20')"
   ]
  },
  {
   "cell_type": "code",
   "execution_count": 8,
   "metadata": {},
   "outputs": [
    {
     "data": {
      "text/html": [
       "<div>\n",
       "<style scoped>\n",
       "    .dataframe tbody tr th:only-of-type {\n",
       "        vertical-align: middle;\n",
       "    }\n",
       "\n",
       "    .dataframe tbody tr th {\n",
       "        vertical-align: top;\n",
       "    }\n",
       "\n",
       "    .dataframe thead th {\n",
       "        text-align: right;\n",
       "    }\n",
       "</style>\n",
       "<table border=\"1\" class=\"dataframe\">\n",
       "  <thead>\n",
       "    <tr style=\"text-align: right;\">\n",
       "      <th></th>\n",
       "      <th>date</th>\n",
       "      <th>open</th>\n",
       "      <th>close</th>\n",
       "      <th>high</th>\n",
       "      <th>low</th>\n",
       "      <th>volume</th>\n",
       "      <th>code</th>\n",
       "    </tr>\n",
       "  </thead>\n",
       "  <tbody>\n",
       "    <tr>\n",
       "      <td>1196</td>\n",
       "      <td>2019-12-16</td>\n",
       "      <td>23.10</td>\n",
       "      <td>23.32</td>\n",
       "      <td>23.49</td>\n",
       "      <td>22.83</td>\n",
       "      <td>1803460.0</td>\n",
       "      <td>600030</td>\n",
       "    </tr>\n",
       "    <tr>\n",
       "      <td>1197</td>\n",
       "      <td>2019-12-17</td>\n",
       "      <td>23.32</td>\n",
       "      <td>23.87</td>\n",
       "      <td>24.55</td>\n",
       "      <td>23.24</td>\n",
       "      <td>2741829.0</td>\n",
       "      <td>600030</td>\n",
       "    </tr>\n",
       "    <tr>\n",
       "      <td>1198</td>\n",
       "      <td>2019-12-18</td>\n",
       "      <td>23.84</td>\n",
       "      <td>23.80</td>\n",
       "      <td>24.28</td>\n",
       "      <td>23.75</td>\n",
       "      <td>1715991.0</td>\n",
       "      <td>600030</td>\n",
       "    </tr>\n",
       "    <tr>\n",
       "      <td>1199</td>\n",
       "      <td>2019-12-19</td>\n",
       "      <td>23.85</td>\n",
       "      <td>23.75</td>\n",
       "      <td>23.88</td>\n",
       "      <td>23.53</td>\n",
       "      <td>1061764.0</td>\n",
       "      <td>600030</td>\n",
       "    </tr>\n",
       "    <tr>\n",
       "      <td>1200</td>\n",
       "      <td>2019-12-20</td>\n",
       "      <td>23.81</td>\n",
       "      <td>23.58</td>\n",
       "      <td>24.10</td>\n",
       "      <td>23.58</td>\n",
       "      <td>1388117.0</td>\n",
       "      <td>600030</td>\n",
       "    </tr>\n",
       "  </tbody>\n",
       "</table>\n",
       "</div>"
      ],
      "text/plain": [
       "            date   open  close   high    low     volume    code\n",
       "1196  2019-12-16  23.10  23.32  23.49  22.83  1803460.0  600030\n",
       "1197  2019-12-17  23.32  23.87  24.55  23.24  2741829.0  600030\n",
       "1198  2019-12-18  23.84  23.80  24.28  23.75  1715991.0  600030\n",
       "1199  2019-12-19  23.85  23.75  23.88  23.53  1061764.0  600030\n",
       "1200  2019-12-20  23.81  23.58  24.10  23.58  1388117.0  600030"
      ]
     },
     "execution_count": 8,
     "metadata": {},
     "output_type": "execute_result"
    }
   ],
   "source": [
    "data.tail() #DataFrame数据结构"
   ]
  },
  {
   "cell_type": "code",
   "execution_count": 9,
   "metadata": {},
   "outputs": [],
   "source": [
    "data.set_index('date', inplace= True) #设置索引，替换，真实覆盖；"
   ]
  },
  {
   "cell_type": "code",
   "execution_count": 10,
   "metadata": {},
   "outputs": [
    {
     "data": {
      "text/html": [
       "<div>\n",
       "<style scoped>\n",
       "    .dataframe tbody tr th:only-of-type {\n",
       "        vertical-align: middle;\n",
       "    }\n",
       "\n",
       "    .dataframe tbody tr th {\n",
       "        vertical-align: top;\n",
       "    }\n",
       "\n",
       "    .dataframe thead th {\n",
       "        text-align: right;\n",
       "    }\n",
       "</style>\n",
       "<table border=\"1\" class=\"dataframe\">\n",
       "  <thead>\n",
       "    <tr style=\"text-align: right;\">\n",
       "      <th></th>\n",
       "      <th>open</th>\n",
       "      <th>close</th>\n",
       "      <th>high</th>\n",
       "      <th>low</th>\n",
       "      <th>volume</th>\n",
       "      <th>code</th>\n",
       "    </tr>\n",
       "    <tr>\n",
       "      <th>date</th>\n",
       "      <th></th>\n",
       "      <th></th>\n",
       "      <th></th>\n",
       "      <th></th>\n",
       "      <th></th>\n",
       "      <th></th>\n",
       "    </tr>\n",
       "  </thead>\n",
       "  <tbody>\n",
       "    <tr>\n",
       "      <td>2015-01-05</td>\n",
       "      <td>31.069</td>\n",
       "      <td>31.765</td>\n",
       "      <td>32.306</td>\n",
       "      <td>30.253</td>\n",
       "      <td>6986272.0</td>\n",
       "      <td>600030</td>\n",
       "    </tr>\n",
       "    <tr>\n",
       "      <td>2015-01-06</td>\n",
       "      <td>30.977</td>\n",
       "      <td>31.811</td>\n",
       "      <td>32.608</td>\n",
       "      <td>30.757</td>\n",
       "      <td>6681193.0</td>\n",
       "      <td>600030</td>\n",
       "    </tr>\n",
       "    <tr>\n",
       "      <td>2015-01-07</td>\n",
       "      <td>31.536</td>\n",
       "      <td>33.131</td>\n",
       "      <td>34.139</td>\n",
       "      <td>31.426</td>\n",
       "      <td>7315084.0</td>\n",
       "      <td>600030</td>\n",
       "    </tr>\n",
       "    <tr>\n",
       "      <td>2015-01-08</td>\n",
       "      <td>33.360</td>\n",
       "      <td>32.306</td>\n",
       "      <td>33.635</td>\n",
       "      <td>31.784</td>\n",
       "      <td>6376268.0</td>\n",
       "      <td>600030</td>\n",
       "    </tr>\n",
       "    <tr>\n",
       "      <td>2015-01-09</td>\n",
       "      <td>32.086</td>\n",
       "      <td>32.040</td>\n",
       "      <td>33.818</td>\n",
       "      <td>31.536</td>\n",
       "      <td>7636402.0</td>\n",
       "      <td>600030</td>\n",
       "    </tr>\n",
       "  </tbody>\n",
       "</table>\n",
       "</div>"
      ],
      "text/plain": [
       "              open   close    high     low     volume    code\n",
       "date                                                         \n",
       "2015-01-05  31.069  31.765  32.306  30.253  6986272.0  600030\n",
       "2015-01-06  30.977  31.811  32.608  30.757  6681193.0  600030\n",
       "2015-01-07  31.536  33.131  34.139  31.426  7315084.0  600030\n",
       "2015-01-08  33.360  32.306  33.635  31.784  6376268.0  600030\n",
       "2015-01-09  32.086  32.040  33.818  31.536  7636402.0  600030"
      ]
     },
     "execution_count": 10,
     "metadata": {},
     "output_type": "execute_result"
    }
   ],
   "source": [
    "data.head()"
   ]
  },
  {
   "cell_type": "code",
   "execution_count": 12,
   "metadata": {},
   "outputs": [],
   "source": [
    "data['SMA_20'] = data['close'].rolling(20).mean()"
   ]
  },
  {
   "cell_type": "code",
   "execution_count": 13,
   "metadata": {},
   "outputs": [],
   "source": [
    "data['SMA_60'] = data['close'].rolling(60).mean()"
   ]
  },
  {
   "cell_type": "code",
   "execution_count": 14,
   "metadata": {},
   "outputs": [
    {
     "data": {
      "text/html": [
       "<div>\n",
       "<style scoped>\n",
       "    .dataframe tbody tr th:only-of-type {\n",
       "        vertical-align: middle;\n",
       "    }\n",
       "\n",
       "    .dataframe tbody tr th {\n",
       "        vertical-align: top;\n",
       "    }\n",
       "\n",
       "    .dataframe thead th {\n",
       "        text-align: right;\n",
       "    }\n",
       "</style>\n",
       "<table border=\"1\" class=\"dataframe\">\n",
       "  <thead>\n",
       "    <tr style=\"text-align: right;\">\n",
       "      <th></th>\n",
       "      <th>open</th>\n",
       "      <th>close</th>\n",
       "      <th>high</th>\n",
       "      <th>low</th>\n",
       "      <th>volume</th>\n",
       "      <th>code</th>\n",
       "      <th>SMA_20</th>\n",
       "      <th>SMA_60</th>\n",
       "    </tr>\n",
       "    <tr>\n",
       "      <th>date</th>\n",
       "      <th></th>\n",
       "      <th></th>\n",
       "      <th></th>\n",
       "      <th></th>\n",
       "      <th></th>\n",
       "      <th></th>\n",
       "      <th></th>\n",
       "      <th></th>\n",
       "    </tr>\n",
       "  </thead>\n",
       "  <tbody>\n",
       "    <tr>\n",
       "      <td>2019-12-16</td>\n",
       "      <td>23.10</td>\n",
       "      <td>23.32</td>\n",
       "      <td>23.49</td>\n",
       "      <td>22.83</td>\n",
       "      <td>1803460.0</td>\n",
       "      <td>600030</td>\n",
       "      <td>21.9840</td>\n",
       "      <td>22.320000</td>\n",
       "    </tr>\n",
       "    <tr>\n",
       "      <td>2019-12-17</td>\n",
       "      <td>23.32</td>\n",
       "      <td>23.87</td>\n",
       "      <td>24.55</td>\n",
       "      <td>23.24</td>\n",
       "      <td>2741829.0</td>\n",
       "      <td>600030</td>\n",
       "      <td>22.0700</td>\n",
       "      <td>22.313167</td>\n",
       "    </tr>\n",
       "    <tr>\n",
       "      <td>2019-12-18</td>\n",
       "      <td>23.84</td>\n",
       "      <td>23.80</td>\n",
       "      <td>24.28</td>\n",
       "      <td>23.75</td>\n",
       "      <td>1715991.0</td>\n",
       "      <td>600030</td>\n",
       "      <td>22.1740</td>\n",
       "      <td>22.317667</td>\n",
       "    </tr>\n",
       "    <tr>\n",
       "      <td>2019-12-19</td>\n",
       "      <td>23.85</td>\n",
       "      <td>23.75</td>\n",
       "      <td>23.88</td>\n",
       "      <td>23.53</td>\n",
       "      <td>1061764.0</td>\n",
       "      <td>600030</td>\n",
       "      <td>22.2795</td>\n",
       "      <td>22.323000</td>\n",
       "    </tr>\n",
       "    <tr>\n",
       "      <td>2019-12-20</td>\n",
       "      <td>23.81</td>\n",
       "      <td>23.58</td>\n",
       "      <td>24.10</td>\n",
       "      <td>23.58</td>\n",
       "      <td>1388117.0</td>\n",
       "      <td>600030</td>\n",
       "      <td>22.3840</td>\n",
       "      <td>22.322833</td>\n",
       "    </tr>\n",
       "  </tbody>\n",
       "</table>\n",
       "</div>"
      ],
      "text/plain": [
       "             open  close   high    low     volume    code   SMA_20     SMA_60\n",
       "date                                                                         \n",
       "2019-12-16  23.10  23.32  23.49  22.83  1803460.0  600030  21.9840  22.320000\n",
       "2019-12-17  23.32  23.87  24.55  23.24  2741829.0  600030  22.0700  22.313167\n",
       "2019-12-18  23.84  23.80  24.28  23.75  1715991.0  600030  22.1740  22.317667\n",
       "2019-12-19  23.85  23.75  23.88  23.53  1061764.0  600030  22.2795  22.323000\n",
       "2019-12-20  23.81  23.58  24.10  23.58  1388117.0  600030  22.3840  22.322833"
      ]
     },
     "execution_count": 14,
     "metadata": {},
     "output_type": "execute_result"
    }
   ],
   "source": [
    "data.tail()"
   ]
  },
  {
   "cell_type": "code",
   "execution_count": 15,
   "metadata": {},
   "outputs": [
    {
     "data": {
      "text/plain": [
       "<matplotlib.axes._subplots.AxesSubplot at 0x1a2559b3d0>"
      ]
     },
     "execution_count": 15,
     "metadata": {},
     "output_type": "execute_result"
    },
    {
     "data": {
      "image/png": "[encoded data removed]",
      "text/plain": [
       "<Figure size 720x432 with 1 Axes>"
      ]
     },
     "metadata": {
      "needs_background": "light"
     },
     "output_type": "display_data"
    }
   ],
   "source": [
    "data[['close','SMA_20','SMA_60']].plot(figsize = (10, 6)) #可视化"
   ]
  },
  {
   "cell_type": "code",
   "execution_count": 16,
   "metadata": {},
   "outputs": [],
   "source": [
    "#计算股票return\n",
    "data['returns'] = np.log(data['close'] / data['close'].shift(1))"
   ]
  },
  {
   "cell_type": "code",
   "execution_count": 17,
   "metadata": {},
   "outputs": [],
   "source": [
    "data['returns_dis2'] = data['close'].pct_change()"
   ]
  },
  {
   "cell_type": "code",
   "execution_count": 19,
   "metadata": {},
   "outputs": [],
   "source": [
    "data['returns_dis'] = data['close'] / data['close'].shift(1) - 1"
   ]
  },
  {
   "cell_type": "code",
   "execution_count": 20,
   "metadata": {},
   "outputs": [
    {
     "data": {
      "text/html": [
       "<div>\n",
       "<style scoped>\n",
       "    .dataframe tbody tr th:only-of-type {\n",
       "        vertical-align: middle;\n",
       "    }\n",
       "\n",
       "    .dataframe tbody tr th {\n",
       "        vertical-align: top;\n",
       "    }\n",
       "\n",
       "    .dataframe thead th {\n",
       "        text-align: right;\n",
       "    }\n",
       "</style>\n",
       "<table border=\"1\" class=\"dataframe\">\n",
       "  <thead>\n",
       "    <tr style=\"text-align: right;\">\n",
       "      <th></th>\n",
       "      <th>open</th>\n",
       "      <th>close</th>\n",
       "      <th>high</th>\n",
       "      <th>low</th>\n",
       "      <th>volume</th>\n",
       "      <th>code</th>\n",
       "      <th>SMA_20</th>\n",
       "      <th>SMA_60</th>\n",
       "      <th>returns</th>\n",
       "      <th>returns_dis2</th>\n",
       "      <th>returns_dis</th>\n",
       "    </tr>\n",
       "    <tr>\n",
       "      <th>date</th>\n",
       "      <th></th>\n",
       "      <th></th>\n",
       "      <th></th>\n",
       "      <th></th>\n",
       "      <th></th>\n",
       "      <th></th>\n",
       "      <th></th>\n",
       "      <th></th>\n",
       "      <th></th>\n",
       "      <th></th>\n",
       "      <th></th>\n",
       "    </tr>\n",
       "  </thead>\n",
       "  <tbody>\n",
       "    <tr>\n",
       "      <td>2015-01-05</td>\n",
       "      <td>31.069</td>\n",
       "      <td>31.765</td>\n",
       "      <td>32.306</td>\n",
       "      <td>30.253</td>\n",
       "      <td>6986272.0</td>\n",
       "      <td>600030</td>\n",
       "      <td>NaN</td>\n",
       "      <td>NaN</td>\n",
       "      <td>NaN</td>\n",
       "      <td>NaN</td>\n",
       "      <td>NaN</td>\n",
       "    </tr>\n",
       "    <tr>\n",
       "      <td>2015-01-06</td>\n",
       "      <td>30.977</td>\n",
       "      <td>31.811</td>\n",
       "      <td>32.608</td>\n",
       "      <td>30.757</td>\n",
       "      <td>6681193.0</td>\n",
       "      <td>600030</td>\n",
       "      <td>NaN</td>\n",
       "      <td>NaN</td>\n",
       "      <td>0.001447</td>\n",
       "      <td>0.001448</td>\n",
       "      <td>0.001448</td>\n",
       "    </tr>\n",
       "    <tr>\n",
       "      <td>2015-01-07</td>\n",
       "      <td>31.536</td>\n",
       "      <td>33.131</td>\n",
       "      <td>34.139</td>\n",
       "      <td>31.426</td>\n",
       "      <td>7315084.0</td>\n",
       "      <td>600030</td>\n",
       "      <td>NaN</td>\n",
       "      <td>NaN</td>\n",
       "      <td>0.040657</td>\n",
       "      <td>0.041495</td>\n",
       "      <td>0.041495</td>\n",
       "    </tr>\n",
       "    <tr>\n",
       "      <td>2015-01-08</td>\n",
       "      <td>33.360</td>\n",
       "      <td>32.306</td>\n",
       "      <td>33.635</td>\n",
       "      <td>31.784</td>\n",
       "      <td>6376268.0</td>\n",
       "      <td>600030</td>\n",
       "      <td>NaN</td>\n",
       "      <td>NaN</td>\n",
       "      <td>-0.025216</td>\n",
       "      <td>-0.024901</td>\n",
       "      <td>-0.024901</td>\n",
       "    </tr>\n",
       "    <tr>\n",
       "      <td>2015-01-09</td>\n",
       "      <td>32.086</td>\n",
       "      <td>32.040</td>\n",
       "      <td>33.818</td>\n",
       "      <td>31.536</td>\n",
       "      <td>7636402.0</td>\n",
       "      <td>600030</td>\n",
       "      <td>NaN</td>\n",
       "      <td>NaN</td>\n",
       "      <td>-0.008268</td>\n",
       "      <td>-0.008234</td>\n",
       "      <td>-0.008234</td>\n",
       "    </tr>\n",
       "  </tbody>\n",
       "</table>\n",
       "</div>"
      ],
      "text/plain": [
       "              open   close    high     low     volume    code  SMA_20  SMA_60  \\\n",
       "date                                                                            \n",
       "2015-01-05  31.069  31.765  32.306  30.253  6986272.0  600030     NaN     NaN   \n",
       "2015-01-06  30.977  31.811  32.608  30.757  6681193.0  600030     NaN     NaN   \n",
       "2015-01-07  31.536  33.131  34.139  31.426  7315084.0  600030     NaN     NaN   \n",
       "2015-01-08  33.360  32.306  33.635  31.784  6376268.0  600030     NaN     NaN   \n",
       "2015-01-09  32.086  32.040  33.818  31.536  7636402.0  600030     NaN     NaN   \n",
       "\n",
       "             returns  returns_dis2  returns_dis  \n",
       "date                                             \n",
       "2015-01-05       NaN           NaN          NaN  \n",
       "2015-01-06  0.001447      0.001448     0.001448  \n",
       "2015-01-07  0.040657      0.041495     0.041495  \n",
       "2015-01-08 -0.025216     -0.024901    -0.024901  \n",
       "2015-01-09 -0.008268     -0.008234    -0.008234  "
      ]
     },
     "execution_count": 20,
     "metadata": {},
     "output_type": "execute_result"
    }
   ],
   "source": [
    "data.head()"
   ]
  },
  {
   "cell_type": "code",
   "execution_count": 21,
   "metadata": {},
   "outputs": [],
   "source": [
    "del data['volume']"
   ]
  },
  {
   "cell_type": "code",
   "execution_count": 22,
   "metadata": {},
   "outputs": [],
   "source": [
    "del data['code']"
   ]
  },
  {
   "cell_type": "code",
   "execution_count": 23,
   "metadata": {},
   "outputs": [
    {
     "data": {
      "text/html": [
       "<div>\n",
       "<style scoped>\n",
       "    .dataframe tbody tr th:only-of-type {\n",
       "        vertical-align: middle;\n",
       "    }\n",
       "\n",
       "    .dataframe tbody tr th {\n",
       "        vertical-align: top;\n",
       "    }\n",
       "\n",
       "    .dataframe thead th {\n",
       "        text-align: right;\n",
       "    }\n",
       "</style>\n",
       "<table border=\"1\" class=\"dataframe\">\n",
       "  <thead>\n",
       "    <tr style=\"text-align: right;\">\n",
       "      <th></th>\n",
       "      <th>open</th>\n",
       "      <th>close</th>\n",
       "      <th>high</th>\n",
       "      <th>low</th>\n",
       "      <th>SMA_20</th>\n",
       "      <th>SMA_60</th>\n",
       "      <th>returns</th>\n",
       "      <th>returns_dis2</th>\n",
       "      <th>returns_dis</th>\n",
       "    </tr>\n",
       "    <tr>\n",
       "      <th>date</th>\n",
       "      <th></th>\n",
       "      <th></th>\n",
       "      <th></th>\n",
       "      <th></th>\n",
       "      <th></th>\n",
       "      <th></th>\n",
       "      <th></th>\n",
       "      <th></th>\n",
       "      <th></th>\n",
       "    </tr>\n",
       "  </thead>\n",
       "  <tbody>\n",
       "    <tr>\n",
       "      <td>2015-01-05</td>\n",
       "      <td>31.069</td>\n",
       "      <td>31.765</td>\n",
       "      <td>32.306</td>\n",
       "      <td>30.253</td>\n",
       "      <td>NaN</td>\n",
       "      <td>NaN</td>\n",
       "      <td>NaN</td>\n",
       "      <td>NaN</td>\n",
       "      <td>NaN</td>\n",
       "    </tr>\n",
       "    <tr>\n",
       "      <td>2015-01-06</td>\n",
       "      <td>30.977</td>\n",
       "      <td>31.811</td>\n",
       "      <td>32.608</td>\n",
       "      <td>30.757</td>\n",
       "      <td>NaN</td>\n",
       "      <td>NaN</td>\n",
       "      <td>0.001447</td>\n",
       "      <td>0.001448</td>\n",
       "      <td>0.001448</td>\n",
       "    </tr>\n",
       "    <tr>\n",
       "      <td>2015-01-07</td>\n",
       "      <td>31.536</td>\n",
       "      <td>33.131</td>\n",
       "      <td>34.139</td>\n",
       "      <td>31.426</td>\n",
       "      <td>NaN</td>\n",
       "      <td>NaN</td>\n",
       "      <td>0.040657</td>\n",
       "      <td>0.041495</td>\n",
       "      <td>0.041495</td>\n",
       "    </tr>\n",
       "    <tr>\n",
       "      <td>2015-01-08</td>\n",
       "      <td>33.360</td>\n",
       "      <td>32.306</td>\n",
       "      <td>33.635</td>\n",
       "      <td>31.784</td>\n",
       "      <td>NaN</td>\n",
       "      <td>NaN</td>\n",
       "      <td>-0.025216</td>\n",
       "      <td>-0.024901</td>\n",
       "      <td>-0.024901</td>\n",
       "    </tr>\n",
       "    <tr>\n",
       "      <td>2015-01-09</td>\n",
       "      <td>32.086</td>\n",
       "      <td>32.040</td>\n",
       "      <td>33.818</td>\n",
       "      <td>31.536</td>\n",
       "      <td>NaN</td>\n",
       "      <td>NaN</td>\n",
       "      <td>-0.008268</td>\n",
       "      <td>-0.008234</td>\n",
       "      <td>-0.008234</td>\n",
       "    </tr>\n",
       "  </tbody>\n",
       "</table>\n",
       "</div>"
      ],
      "text/plain": [
       "              open   close    high     low  SMA_20  SMA_60   returns  \\\n",
       "date                                                                   \n",
       "2015-01-05  31.069  31.765  32.306  30.253     NaN     NaN       NaN   \n",
       "2015-01-06  30.977  31.811  32.608  30.757     NaN     NaN  0.001447   \n",
       "2015-01-07  31.536  33.131  34.139  31.426     NaN     NaN  0.040657   \n",
       "2015-01-08  33.360  32.306  33.635  31.784     NaN     NaN -0.025216   \n",
       "2015-01-09  32.086  32.040  33.818  31.536     NaN     NaN -0.008268   \n",
       "\n",
       "            returns_dis2  returns_dis  \n",
       "date                                   \n",
       "2015-01-05           NaN          NaN  \n",
       "2015-01-06      0.001448     0.001448  \n",
       "2015-01-07      0.041495     0.041495  \n",
       "2015-01-08     -0.024901    -0.024901  \n",
       "2015-01-09     -0.008234    -0.008234  "
      ]
     },
     "execution_count": 23,
     "metadata": {},
     "output_type": "execute_result"
    }
   ],
   "source": [
    "data.head()"
   ]
  },
  {
   "cell_type": "code",
   "execution_count": 24,
   "metadata": {},
   "outputs": [],
   "source": [
    "data['position'] = np.where(data['SMA_20'] > data['SMA_60'], 1, -1)"
   ]
  },
  {
   "cell_type": "code",
   "execution_count": 25,
   "metadata": {},
   "outputs": [
    {
     "data": {
      "text/plain": [
       "<matplotlib.axes._subplots.AxesSubplot at 0x1a246c7e90>"
      ]
     },
     "execution_count": 25,
     "metadata": {},
     "output_type": "execute_result"
    },
    {
     "data": {
      "image/png": "[encoded data removed]",
      "text/plain": [
       "<Figure size 720x432 with 1 Axes>"
      ]
     },
     "metadata": {
      "needs_background": "light"
     },
     "output_type": "display_data"
    }
   ],
   "source": [
    "data['returns'].cumsum().apply(np.exp).plot(figsize=(10, 6))"
   ]
  }
 ],
 "metadata": {
  "kernelspec": {
   "display_name": "Python 3",
   "language": "python",
   "name": "python3"
  },
  "language_info": {
   "codemirror_mode": {
    "name": "ipython",
    "version": 3
   },
   "file_extension": ".py",
   "mimetype": "text/x-python",
   "name": "python",
   "nbconvert_exporter": "python",
   "pygments_lexer": "ipython3",
   "version": "3.7.4"
  }
 },
 "nbformat": 4,
 "nbformat_minor": 2
}
