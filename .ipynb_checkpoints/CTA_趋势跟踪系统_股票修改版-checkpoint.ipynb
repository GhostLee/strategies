{
 "cells": [
  {
   "cell_type": "markdown",
   "metadata": {},
   "source": [
    "## 1.基本原理\n",
    "    股票价格多围绕某一价格上下波动。当股价远离基准价格超过一定幅度则可能形成长期趋势，而短期股价偏离基准价格过多则可能因过度偏离均值而形成大幅回撤甚至趋势终止。\n",
    "    \n",
    "    由此以观察期内均线作为基准价格，以观察期内标准差的一定倍数作为开仓价或止盈价，采用移动止损方式进行止损构建此策略。\n",
    "    \n",
    "    开仓条件\n",
    "    \n",
    "    当日最高价 > 均价 + 开仓触发倍数 * 观察期内标准差最大值\n",
    "    \n",
    "    止盈条件\n",
    "    \n",
    "    当日最大价 > 均价 + 止盈触发倍数 * 观察期内标准差最大值\n",
    "    \n",
    "    止损条件\n",
    "    \n",
    "    同样结合了移动止损和固定止损两种止损模式；\n",
    "    \n",
    "    当天最低价 < max(均价，开仓价 - 止损触发倍数 * 开仓时观察期内标准差最大值)\n",
    "    \n",
    "    均价：移动止损；开仓价 - 止损触发倍数 * 开仓时观察期内标准差最大值；固定止损\n",
    "    \n",
    "    注意：\n",
    "    \n",
    "    考虑了开仓当天也触发了平仓信号的近似处理；\n",
    "    \n",
    "    用观察期内标准差的最大值开仓的原因是：在震荡行情的时候，避免频发开仓；更加稳定"
   ]
  },
  {
   "cell_type": "markdown",
   "metadata": {},
   "source": [
    "## 2.策略实现"
   ]
  },
  {
   "cell_type": "markdown",
   "metadata": {},
   "source": [
    "### 2.1 数据获取"
   ]
  },
  {
   "cell_type": "code",
   "execution_count": 1,
   "metadata": {},
   "outputs": [
    {
     "ename": "SyntaxError",
     "evalue": "invalid syntax (<ipython-input-1-941c2e24e4c5>, line 3)",
     "output_type": "error",
     "traceback": [
      "\u001b[0;36m  File \u001b[0;32m\"<ipython-input-1-941c2e24e4c5>\"\u001b[0;36m, line \u001b[0;32m3\u001b[0m\n\u001b[0;31m    import matplotlib as\u001b[0m\n\u001b[0m                         ^\u001b[0m\n\u001b[0;31mSyntaxError\u001b[0m\u001b[0;31m:\u001b[0m invalid syntax\n"
     ]
    }
   ],
   "source": [
    "import numpy as np\n",
    "import pandas as pd\n",
    "import matplotlib as mpl\n",
    "import tushare as ts\n",
    "import matplotlib.pyplot as plt\n",
    "%matplotlib inline\n",
    "mpl.rcParams['axes.unicode_minus'] = False\n",
    "mpl.rcParams['font.sans-serif'] = ['SimHei']\n",
    "import warnings; warnings.simplefilter('ignore') #忽略可能会出现的警告信息，警告并不是错误，可以忽略；"
   ]
  },
  {
   "cell_type": "code",
   "execution_count": null,
   "metadata": {},
   "outputs": [],
   "source": [
    "code = '002397'\n",
    "length = 10           #  参考周期长度，用于确定计算标准差及移动平均的周期\n",
    "open_trigger = 0.5    #  价格向上偏离均线0.5倍观察期内标准差的最大值开仓；\n",
    "stopwin_trigger = 3   #  价格向上偏离均线3倍观察期内标准差的最大值止盈；\n",
    "stoplose_trigger = 1  #  移动止损；跌破均值移动止损；固定止损：开仓价向下偏离观察期内标准差的最大值；"
   ]
  },
  {
   "cell_type": "code",
   "execution_count": null,
   "metadata": {},
   "outputs": [],
   "source": [
    "data = ts.get_k_data(code, '2012-01-01', '2020-01-01')\n",
    "data.tail()"
   ]
  },
  {
   "cell_type": "markdown",
   "metadata": {},
   "source": [
    "### 2.2 策略数据处理"
   ]
  },
  {
   "cell_type": "code",
   "execution_count": null,
   "metadata": {},
   "outputs": [],
   "source": [
    "data['pct_change'] = data['close'].pct_change()\n",
    "data['ma'] = data['close'].rolling(window=length, min_periods=3).mean()\n",
    "data['std'] = data['close'].rolling(window=length,min_periods=3).std()"
   ]
  },
  {
   "cell_type": "code",
   "execution_count": 2,
   "metadata": {},
   "outputs": [
    {
     "ename": "NameError",
     "evalue": "name 'data' is not defined",
     "output_type": "error",
     "traceback": [
      "\u001b[0;31m---------------------------------------------------------------------------\u001b[0m",
      "\u001b[0;31mNameError\u001b[0m                                 Traceback (most recent call last)",
      "\u001b[0;32m<ipython-input-2-0b73fe40d24a>\u001b[0m in \u001b[0;36m<module>\u001b[0;34m\u001b[0m\n\u001b[0;32m----> 1\u001b[0;31m \u001b[0mdata\u001b[0m\u001b[0;34m.\u001b[0m\u001b[0mtail\u001b[0m\u001b[0;34m(\u001b[0m\u001b[0;34m)\u001b[0m\u001b[0;34m\u001b[0m\u001b[0;34m\u001b[0m\u001b[0m\n\u001b[0m",
      "\u001b[0;31mNameError\u001b[0m: name 'data' is not defined"
     ]
    }
   ],
   "source": [
    "data.tail()"
   ]
  },
  {
   "cell_type": "markdown",
   "metadata": {},
   "source": [
    "以观察期内标准差最大值作为标准差限制指标"
   ]
  },
  {
   "cell_type": "code",
   "execution_count": null,
   "metadata": {},
   "outputs": [],
   "source": [
    "data['std_limit'] = data['std'].rolling(window=length).max()"
   ]
  },
  {
   "cell_type": "markdown",
   "metadata": {},
   "source": [
    "由于实盘中当天的日线级别参考指标未实现，例如当日ma计算时使用当日收盘价，因此应使用昨日参考指标指导当日交易"
   ]
  },
  {
   "cell_type": "code",
   "execution_count": null,
   "metadata": {},
   "outputs": [],
   "source": [
    "data['yes_ma'] = data['ma'].shift(1)\n",
    "data['yes_std_limit'] = data['std_limit'].shift(1)"
   ]
  },
  {
   "cell_type": "markdown",
   "metadata": {},
   "source": [
    "计算当日开仓价和止盈价"
   ]
  },
  {
   "cell_type": "code",
   "execution_count": null,
   "metadata": {},
   "outputs": [],
   "source": [
    "#计算每一天满足条件的开仓价；\n",
    "data['long_open_price'] = data['yes_ma'] + data['yes_std_limit'] * open_trigger\n",
    "data['long_stopwin_price'] = data['yes_ma'] + data['yes_std_limit'] * stopwin_trigger\n",
    "data.loc[10:15,['date', 'pct_change', 'ma', 'std', 'yes_std_limit','long_open_price', 'long_stopwin_price']]"
   ]
  },
  {
   "cell_type": "markdown",
   "metadata": {},
   "source": [
    "### 2.3 计算开仓、止盈信号"
   ]
  },
  {
   "cell_type": "code",
   "execution_count": null,
   "metadata": {},
   "outputs": [],
   "source": [
    "data['long_open_signal'] = np.where(data['high'] > data['long_open_price'],1,0)\n",
    "data['long_stopwin_signal'] = np.where(data['high'] > data['long_stopwin_price'],1,0)\n",
    "data[['date','long_open_signal','long_stopwin_signal']].head()"
   ]
  },
  {
   "cell_type": "markdown",
   "metadata": {},
   "source": [
    "## 3 策略逻辑"
   ]
  },
  {
   "cell_type": "markdown",
   "metadata": {},
   "source": [
    "#### 策略要点：\n",
    "    1.当天有持仓，满足平仓条件进行平仓后，当天不再开仓\n",
    "    2.当天无持仓，满足开仓条件则进行开仓。开仓当日如果同时满足平仓条件以第二日开盘价平仓；"
   ]
  },
  {
   "cell_type": "code",
   "execution_count": null,
   "metadata": {},
   "outputs": [],
   "source": [
    "flag = 0   # 记录持仓情况，0代表空仓，1代表持仓；"
   ]
  },
  {
   "cell_type": "code",
   "execution_count": null,
   "metadata": {},
   "outputs": [],
   "source": [
    "# 前12个数据因均值计算无效所有不作为待处理数据\n",
    "# 终止数据选择倒数第二个以防止当天止盈情况会以第二天开盘价平仓导致无数据情况发生\n",
    "# 最后一天不再进行操作；可能会面临最后一天开仓之后当天触发平仓，要用下一天开盘价卖出，无法得到；\n",
    "\n",
    "for i in range(12, (len(data) -1)):\n",
    "    #有持仓进行平仓\n",
    "    if flag == 1:\n",
    "        #计算止损价格，取均线和开仓价下移一定倍数标准差，两者的最大值作为止损价\n",
    "        stoplose_price = max(data.loc[i,'yes_ma'], long_open_price - long_open_delta * stoplose_trigger)\n",
    "        # 多头止盈并计算当日收益率\n",
    "        if data.loc[i,'long_stopwin_signal']:\n",
    "            data.loc[i,'return'] = data.loc[i,'long_stopwin_price']/data.loc[i-1,'close'] -1\n",
    "            flag = 0\n",
    "        elif data.loc[i,'low'] < stoplose_price:\n",
    "            # 考虑到当天开盘价就低于止损价，无法止损的情况；\n",
    "            #谨慎起见，在计算收益时，取止损价和开盘价的最小值；\n",
    "            data.loc[i,'return'] = min(data.loc[i,'open'], stoplose_price)/data.loc[i-1,'close'] -1\n",
    "            flag = 0\n",
    "        else:\n",
    "            data.loc[i,'return'] = data.loc[i,'close'] / data.loc[i -1, 'close'] - 1\n",
    "    #无持仓进行开仓 \n",
    "    else:\n",
    "        if data.loc[i,'long_open_signal']:\n",
    "            # 开仓时候标记flag =1\n",
    "            flag = 1\n",
    "            # 需要比较当天的开盘价和开仓价，当开盘价高于开仓价时，只能以开盘价进行开仓，不能用开仓价；\n",
    "            #否则对导致策略收益高估；\n",
    "            #记录开仓价\n",
    "            long_open_price = max(data.loc[i,'open'], data.loc[i,'long_open_price'])\n",
    "            #                 long_open_price = data.loc[i, 'long_open_price'] \n",
    "            # 记录开仓时的10天内的标准差的最大值；是为了计算固定止损的价格；\n",
    "            long_open_delta = data.loc[i,'yes_std_limit']\n",
    "            #计算当天盈利情况\n",
    "            data.loc[i,'return'] = data.loc[i,'close']/long_open_price -1\n",
    "            \n",
    "            #计算止损价：多头移动止损，以均线和开仓价减一定倍数标准差，两者的最大值作为止损点\n",
    "            stoplose_price = max(data.loc[i,'yes_ma'],long_open_price - long_open_delta * stoplose_trigger)\n",
    "            # 如果开仓当天同时满足平仓条件，则以第二天开盘价平仓\n",
    "            # 这里做了一定的近似处理；\n",
    "            if (data.loc[1,'low'] < stoplose_price or data.loc[i, 'long_stopwin_signal']):\n",
    "                data.loc[i,'return'] = data.loc[i+1, 'open']/long_open_price -1\n",
    "                flag = 0"
   ]
  },
  {
   "cell_type": "code",
   "execution_count": null,
   "metadata": {},
   "outputs": [],
   "source": [
    "data.tail()"
   ]
  },
  {
   "cell_type": "markdown",
   "metadata": {},
   "source": [
    "## 4 计算策略收益率并可视化"
   ]
  },
  {
   "cell_type": "code",
   "execution_count": null,
   "metadata": {},
   "outputs": [],
   "source": [
    "data['return'].fillna(0,inplace=True)\n",
    "data['strategy_return'] = (data['return'] + 1).cumprod()\n",
    "data['stock_return'] = (data['pct_change'] + 1).cumprod()"
   ]
  },
  {
   "cell_type": "code",
   "execution_count": null,
   "metadata": {},
   "outputs": [],
   "source": [
    "mpl.style.use('ggplot')\n",
    "fig = plt.figure(figsize=(10,5))\n",
    "ax = fig.add_subplot(1,1,1)\n",
    "ax.plot(data.stock_return)\n",
    "ax.plot(data.strategy_return)\n",
    "plt.title(code)\n",
    "plt.legend()"
   ]
  },
  {
   "cell_type": "markdown",
   "metadata": {},
   "source": [
    "## 5 策略编写与实盘差异\n",
    "\n",
    "### 5.1 策略账号操作对盘面价格的影响\n",
    "    未考虑交易滑点。实盘交易中，如果满足操作条件时实盘成交量较小，策略账号进行操作可能会对盘面价格产生一定影响，导致当次操作成交均价偏离期望成交价，由此产生滑点（一般对收益产生负影响，策略回测表现优于实盘表现）。\n",
    "### 5.2 交易费用\n",
    "    未考虑交易手续费。对于交易频率较低的策略，交易手续费对回测结果的影响较小；对于交易频率较高的策略，交易手续费可能决定策略回测结果是否为正。（策略回测表现优于实盘表现）\n",
    "### 5.3 策略回测执行价实盘是否执行\n",
    "    1.期望开仓价是否执行\n",
    "        本策略回测中期望开仓价定为均线价格加一定倍数的标准差，实盘中可能面临以下情况；\n",
    "        \n",
    "        开仓执行当天开盘时涨停，实盘中无法成交。\n",
    "        期望开仓价恰好为涨停价，实盘中无法成交。\n",
    "        期望开仓价距离涨停价较近，实盘中价格上涨突破期望开仓价时因交易不活跃等原因直接跳价到涨停价或因交易系统产生并发送交易信号时间慢于价格快速上涨到涨停的视乎，实盘无法成交。\n",
    "        \n",
    "    2.期望止损价是否执行\n",
    "        本策略回测中期望止损价定为均线价格和开仓价格的最大值，实盘中可能面临以下情况：\n",
    "        止损执行当日开盘价低于期望止损价，满足止损条件，应以开盘价执行。（期望止损价更优于开盘价，策略回测表现优于实盘表现）\n",
    "        止损执行当日开盘时跌停，实盘中无法成交。\n",
    "        期望止损价恰好为跌停价，实盘中可能无法成交。\n",
    "        期望止损价距离跌停板较近，实盘中价格下跌突破期望止损价时因交易不活跃等原因直接跳价到跌停价或因交易系统产生并发送交易信号时间慢于价格快速下跌到跌停的时间，实盘中无法成交。\n",
    "### 5.4 策略信号执行优先级\n",
    "    因策略回测使用日线级数据，当日内同时满足多个操作条件，如同时满足开仓信号、止损信号，回测将无法辨别信号出现先后顺序，由此使用信号执行优先级方式近似计算策略收益情况。该种方式将产生一定偏差。\n",
    "    1.开仓当日同时满足开仓、止损条件\n",
    "\n",
    "        策略回测中，如开仓当日同时满足开仓、止损条件，则假设进行一次完整交易，先开仓，后以第二日开盘价平仓。\n",
    "        实盘中当日如果先满足止损条件（此时未持仓），后满足开仓条件，则第二日不进行平仓操作。（因策略收益特点类似看涨期权，因此实盘表现可能优于策略回测表现）\n",
    "     2.平仓当日同时满足止盈、止损条件\n",
    "\n",
    "        策略回测中，如平仓当日同时满足止盈、止损条件，则以止盈价进行平仓。\n",
    "        实盘中当日如果先满足止损条件（此时有持仓），后满足止盈条件，则以止损价进行平仓操作。（策略回测表现优于实盘表现）"
   ]
  }
 ],
 "metadata": {
  "kernelspec": {
   "display_name": "Python 3",
   "language": "python",
   "name": "python3"
  },
  "language_info": {
   "codemirror_mode": {
    "name": "ipython",
    "version": 3
   },
   "file_extension": ".py",
   "mimetype": "text/x-python",
   "name": "python",
   "nbconvert_exporter": "python",
   "pygments_lexer": "ipython3",
   "version": "3.7.4"
  }
 },
 "nbformat": 4,
 "nbformat_minor": 2
}
