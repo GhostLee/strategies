{
 "cells": [
  {
   "cell_type": "code",
   "execution_count": 1,
   "metadata": {},
   "outputs": [],
   "source": [
    "%matplotlib inline\n",
    "import matplotlib.pyplot as plt\n",
    "import seaborn\n",
    "import matplotlib as mpl\n",
    "mpl.rcParams['font.family'] = 'serif' #解决一些字体显示乱码问题\n",
    "import warnings;\n",
    "warnings.simplefilter('ignore')  #忽略警告信息；"
   ]
  },
  {
   "cell_type": "code",
   "execution_count": 2,
   "metadata": {},
   "outputs": [],
   "source": [
    "import numpy as np\n",
    "import pandas as pd\n",
    "import tushare as ts"
   ]
  },
  {
   "cell_type": "code",
   "execution_count": 3,
   "metadata": {},
   "outputs": [],
   "source": [
    "data = ts.get_k_data('hs300', start='2015-01-01',end='2019-12-20')"
   ]
  },
  {
   "cell_type": "code",
   "execution_count": 4,
   "metadata": {},
   "outputs": [],
   "source": [
    "data = pd.DataFrame(data) #把data转换成为DataFrame格式;"
   ]
  },
  {
   "cell_type": "code",
   "execution_count": 5,
   "metadata": {},
   "outputs": [
    {
     "data": {
      "text/html": [
       "<div>\n",
       "<style scoped>\n",
       "    .dataframe tbody tr th:only-of-type {\n",
       "        vertical-align: middle;\n",
       "    }\n",
       "\n",
       "    .dataframe tbody tr th {\n",
       "        vertical-align: top;\n",
       "    }\n",
       "\n",
       "    .dataframe thead th {\n",
       "        text-align: right;\n",
       "    }\n",
       "</style>\n",
       "<table border=\"1\" class=\"dataframe\">\n",
       "  <thead>\n",
       "    <tr style=\"text-align: right;\">\n",
       "      <th></th>\n",
       "      <th>date</th>\n",
       "      <th>open</th>\n",
       "      <th>close</th>\n",
       "      <th>high</th>\n",
       "      <th>low</th>\n",
       "      <th>volume</th>\n",
       "      <th>code</th>\n",
       "    </tr>\n",
       "  </thead>\n",
       "  <tbody>\n",
       "    <tr>\n",
       "      <td>0</td>\n",
       "      <td>2015-01-05</td>\n",
       "      <td>3566.09</td>\n",
       "      <td>3641.54</td>\n",
       "      <td>3669.04</td>\n",
       "      <td>3551.51</td>\n",
       "      <td>451198098.0</td>\n",
       "      <td>hs300</td>\n",
       "    </tr>\n",
       "    <tr>\n",
       "      <td>1</td>\n",
       "      <td>2015-01-06</td>\n",
       "      <td>3608.43</td>\n",
       "      <td>3641.06</td>\n",
       "      <td>3683.23</td>\n",
       "      <td>3587.23</td>\n",
       "      <td>420962185.0</td>\n",
       "      <td>hs300</td>\n",
       "    </tr>\n",
       "    <tr>\n",
       "      <td>2</td>\n",
       "      <td>2015-01-07</td>\n",
       "      <td>3620.92</td>\n",
       "      <td>3643.79</td>\n",
       "      <td>3671.19</td>\n",
       "      <td>3601.70</td>\n",
       "      <td>320191232.0</td>\n",
       "      <td>hs300</td>\n",
       "    </tr>\n",
       "    <tr>\n",
       "      <td>3</td>\n",
       "      <td>2015-01-08</td>\n",
       "      <td>3650.07</td>\n",
       "      <td>3559.26</td>\n",
       "      <td>3659.95</td>\n",
       "      <td>3552.10</td>\n",
       "      <td>295003045.0</td>\n",
       "      <td>hs300</td>\n",
       "    </tr>\n",
       "    <tr>\n",
       "      <td>4</td>\n",
       "      <td>2015-01-09</td>\n",
       "      <td>3547.57</td>\n",
       "      <td>3546.72</td>\n",
       "      <td>3689.75</td>\n",
       "      <td>3536.40</td>\n",
       "      <td>349982672.0</td>\n",
       "      <td>hs300</td>\n",
       "    </tr>\n",
       "  </tbody>\n",
       "</table>\n",
       "</div>"
      ],
      "text/plain": [
       "         date     open    close     high      low       volume   code\n",
       "0  2015-01-05  3566.09  3641.54  3669.04  3551.51  451198098.0  hs300\n",
       "1  2015-01-06  3608.43  3641.06  3683.23  3587.23  420962185.0  hs300\n",
       "2  2015-01-07  3620.92  3643.79  3671.19  3601.70  320191232.0  hs300\n",
       "3  2015-01-08  3650.07  3559.26  3659.95  3552.10  295003045.0  hs300\n",
       "4  2015-01-09  3547.57  3546.72  3689.75  3536.40  349982672.0  hs300"
      ]
     },
     "execution_count": 5,
     "metadata": {},
     "output_type": "execute_result"
    }
   ],
   "source": [
    "data.head()"
   ]
  },
  {
   "cell_type": "code",
   "execution_count": 6,
   "metadata": {},
   "outputs": [],
   "source": [
    "del data['volume']\n",
    "del data['code']"
   ]
  },
  {
   "cell_type": "code",
   "execution_count": 7,
   "metadata": {},
   "outputs": [
    {
     "data": {
      "text/html": [
       "<div>\n",
       "<style scoped>\n",
       "    .dataframe tbody tr th:only-of-type {\n",
       "        vertical-align: middle;\n",
       "    }\n",
       "\n",
       "    .dataframe tbody tr th {\n",
       "        vertical-align: top;\n",
       "    }\n",
       "\n",
       "    .dataframe thead th {\n",
       "        text-align: right;\n",
       "    }\n",
       "</style>\n",
       "<table border=\"1\" class=\"dataframe\">\n",
       "  <thead>\n",
       "    <tr style=\"text-align: right;\">\n",
       "      <th></th>\n",
       "      <th>date</th>\n",
       "      <th>open</th>\n",
       "      <th>close</th>\n",
       "      <th>high</th>\n",
       "      <th>low</th>\n",
       "    </tr>\n",
       "  </thead>\n",
       "  <tbody>\n",
       "    <tr>\n",
       "      <td>0</td>\n",
       "      <td>2015-01-05</td>\n",
       "      <td>3566.09</td>\n",
       "      <td>3641.54</td>\n",
       "      <td>3669.04</td>\n",
       "      <td>3551.51</td>\n",
       "    </tr>\n",
       "    <tr>\n",
       "      <td>1</td>\n",
       "      <td>2015-01-06</td>\n",
       "      <td>3608.43</td>\n",
       "      <td>3641.06</td>\n",
       "      <td>3683.23</td>\n",
       "      <td>3587.23</td>\n",
       "    </tr>\n",
       "    <tr>\n",
       "      <td>2</td>\n",
       "      <td>2015-01-07</td>\n",
       "      <td>3620.92</td>\n",
       "      <td>3643.79</td>\n",
       "      <td>3671.19</td>\n",
       "      <td>3601.70</td>\n",
       "    </tr>\n",
       "    <tr>\n",
       "      <td>3</td>\n",
       "      <td>2015-01-08</td>\n",
       "      <td>3650.07</td>\n",
       "      <td>3559.26</td>\n",
       "      <td>3659.95</td>\n",
       "      <td>3552.10</td>\n",
       "    </tr>\n",
       "    <tr>\n",
       "      <td>4</td>\n",
       "      <td>2015-01-09</td>\n",
       "      <td>3547.57</td>\n",
       "      <td>3546.72</td>\n",
       "      <td>3689.75</td>\n",
       "      <td>3536.40</td>\n",
       "    </tr>\n",
       "  </tbody>\n",
       "</table>\n",
       "</div>"
      ],
      "text/plain": [
       "         date     open    close     high      low\n",
       "0  2015-01-05  3566.09  3641.54  3669.04  3551.51\n",
       "1  2015-01-06  3608.43  3641.06  3683.23  3587.23\n",
       "2  2015-01-07  3620.92  3643.79  3671.19  3601.70\n",
       "3  2015-01-08  3650.07  3559.26  3659.95  3552.10\n",
       "4  2015-01-09  3547.57  3546.72  3689.75  3536.40"
      ]
     },
     "execution_count": 7,
     "metadata": {},
     "output_type": "execute_result"
    }
   ],
   "source": [
    "data.head()"
   ]
  },
  {
   "cell_type": "code",
   "execution_count": 8,
   "metadata": {},
   "outputs": [],
   "source": [
    "data.rename(columns={'close':'price'},inplace=True)"
   ]
  },
  {
   "cell_type": "code",
   "execution_count": 9,
   "metadata": {},
   "outputs": [
    {
     "data": {
      "text/plain": [
       "<bound method DataFrame.info of             date     open    price     high      low\n",
       "0     2015-01-05  3566.09  3641.54  3669.04  3551.51\n",
       "1     2015-01-06  3608.43  3641.06  3683.23  3587.23\n",
       "2     2015-01-07  3620.92  3643.79  3671.19  3601.70\n",
       "3     2015-01-08  3650.07  3559.26  3659.95  3552.10\n",
       "4     2015-01-09  3547.57  3546.72  3689.75  3536.40\n",
       "...          ...      ...      ...      ...      ...\n",
       "1207  2019-12-16  3970.71  3987.55  3987.59  3953.51\n",
       "1208  2019-12-17  3987.74  4041.80  4067.14  3984.52\n",
       "1209  2019-12-18  4039.72  4032.78  4057.64  4025.34\n",
       "1210  2019-12-19  4034.62  4027.15  4038.54  4014.90\n",
       "1211  2019-12-20  4032.15  4017.25  4046.73  4014.93\n",
       "\n",
       "[1212 rows x 5 columns]>"
      ]
     },
     "execution_count": 9,
     "metadata": {},
     "output_type": "execute_result"
    }
   ],
   "source": [
    "data.info"
   ]
  },
  {
   "cell_type": "code",
   "execution_count": 10,
   "metadata": {},
   "outputs": [
    {
     "data": {
      "text/html": [
       "<div>\n",
       "<style scoped>\n",
       "    .dataframe tbody tr th:only-of-type {\n",
       "        vertical-align: middle;\n",
       "    }\n",
       "\n",
       "    .dataframe tbody tr th {\n",
       "        vertical-align: top;\n",
       "    }\n",
       "\n",
       "    .dataframe thead th {\n",
       "        text-align: right;\n",
       "    }\n",
       "</style>\n",
       "<table border=\"1\" class=\"dataframe\">\n",
       "  <thead>\n",
       "    <tr style=\"text-align: right;\">\n",
       "      <th></th>\n",
       "      <th>date</th>\n",
       "      <th>open</th>\n",
       "      <th>price</th>\n",
       "      <th>high</th>\n",
       "      <th>low</th>\n",
       "    </tr>\n",
       "  </thead>\n",
       "  <tbody>\n",
       "    <tr>\n",
       "      <td>0</td>\n",
       "      <td>2015-01-05</td>\n",
       "      <td>3566.09</td>\n",
       "      <td>3641.54</td>\n",
       "      <td>3669.04</td>\n",
       "      <td>3551.51</td>\n",
       "    </tr>\n",
       "    <tr>\n",
       "      <td>1</td>\n",
       "      <td>2015-01-06</td>\n",
       "      <td>3608.43</td>\n",
       "      <td>3641.06</td>\n",
       "      <td>3683.23</td>\n",
       "      <td>3587.23</td>\n",
       "    </tr>\n",
       "    <tr>\n",
       "      <td>2</td>\n",
       "      <td>2015-01-07</td>\n",
       "      <td>3620.92</td>\n",
       "      <td>3643.79</td>\n",
       "      <td>3671.19</td>\n",
       "      <td>3601.70</td>\n",
       "    </tr>\n",
       "    <tr>\n",
       "      <td>3</td>\n",
       "      <td>2015-01-08</td>\n",
       "      <td>3650.07</td>\n",
       "      <td>3559.26</td>\n",
       "      <td>3659.95</td>\n",
       "      <td>3552.10</td>\n",
       "    </tr>\n",
       "    <tr>\n",
       "      <td>4</td>\n",
       "      <td>2015-01-09</td>\n",
       "      <td>3547.57</td>\n",
       "      <td>3546.72</td>\n",
       "      <td>3689.75</td>\n",
       "      <td>3536.40</td>\n",
       "    </tr>\n",
       "  </tbody>\n",
       "</table>\n",
       "</div>"
      ],
      "text/plain": [
       "         date     open    price     high      low\n",
       "0  2015-01-05  3566.09  3641.54  3669.04  3551.51\n",
       "1  2015-01-06  3608.43  3641.06  3683.23  3587.23\n",
       "2  2015-01-07  3620.92  3643.79  3671.19  3601.70\n",
       "3  2015-01-08  3650.07  3559.26  3659.95  3552.10\n",
       "4  2015-01-09  3547.57  3546.72  3689.75  3536.40"
      ]
     },
     "execution_count": 10,
     "metadata": {},
     "output_type": "execute_result"
    }
   ],
   "source": [
    "data.head()"
   ]
  },
  {
   "cell_type": "code",
   "execution_count": 11,
   "metadata": {},
   "outputs": [],
   "source": [
    "data.set_index('date', inplace= True)"
   ]
  },
  {
   "cell_type": "code",
   "execution_count": 13,
   "metadata": {},
   "outputs": [
    {
     "data": {
      "text/html": [
       "<div>\n",
       "<style scoped>\n",
       "    .dataframe tbody tr th:only-of-type {\n",
       "        vertical-align: middle;\n",
       "    }\n",
       "\n",
       "    .dataframe tbody tr th {\n",
       "        vertical-align: top;\n",
       "    }\n",
       "\n",
       "    .dataframe thead th {\n",
       "        text-align: right;\n",
       "    }\n",
       "</style>\n",
       "<table border=\"1\" class=\"dataframe\">\n",
       "  <thead>\n",
       "    <tr style=\"text-align: right;\">\n",
       "      <th></th>\n",
       "      <th>open</th>\n",
       "      <th>price</th>\n",
       "      <th>high</th>\n",
       "      <th>low</th>\n",
       "    </tr>\n",
       "    <tr>\n",
       "      <th>date</th>\n",
       "      <th></th>\n",
       "      <th></th>\n",
       "      <th></th>\n",
       "      <th></th>\n",
       "    </tr>\n",
       "  </thead>\n",
       "  <tbody>\n",
       "    <tr>\n",
       "      <td>2015-01-05</td>\n",
       "      <td>3566.09</td>\n",
       "      <td>3641.54</td>\n",
       "      <td>3669.04</td>\n",
       "      <td>3551.51</td>\n",
       "    </tr>\n",
       "    <tr>\n",
       "      <td>2015-01-06</td>\n",
       "      <td>3608.43</td>\n",
       "      <td>3641.06</td>\n",
       "      <td>3683.23</td>\n",
       "      <td>3587.23</td>\n",
       "    </tr>\n",
       "    <tr>\n",
       "      <td>2015-01-07</td>\n",
       "      <td>3620.92</td>\n",
       "      <td>3643.79</td>\n",
       "      <td>3671.19</td>\n",
       "      <td>3601.70</td>\n",
       "    </tr>\n",
       "    <tr>\n",
       "      <td>2015-01-08</td>\n",
       "      <td>3650.07</td>\n",
       "      <td>3559.26</td>\n",
       "      <td>3659.95</td>\n",
       "      <td>3552.10</td>\n",
       "    </tr>\n",
       "    <tr>\n",
       "      <td>2015-01-09</td>\n",
       "      <td>3547.57</td>\n",
       "      <td>3546.72</td>\n",
       "      <td>3689.75</td>\n",
       "      <td>3536.40</td>\n",
       "    </tr>\n",
       "  </tbody>\n",
       "</table>\n",
       "</div>"
      ],
      "text/plain": [
       "               open    price     high      low\n",
       "date                                          \n",
       "2015-01-05  3566.09  3641.54  3669.04  3551.51\n",
       "2015-01-06  3608.43  3641.06  3683.23  3587.23\n",
       "2015-01-07  3620.92  3643.79  3671.19  3601.70\n",
       "2015-01-08  3650.07  3559.26  3659.95  3552.10\n",
       "2015-01-09  3547.57  3546.72  3689.75  3536.40"
      ]
     },
     "execution_count": 13,
     "metadata": {},
     "output_type": "execute_result"
    }
   ],
   "source": [
    "data.head()"
   ]
  },
  {
   "cell_type": "code",
   "execution_count": 14,
   "metadata": {},
   "outputs": [],
   "source": [
    "data['SMA_10'] = data['price'].rolling(10).mean()"
   ]
  },
  {
   "cell_type": "code",
   "execution_count": 15,
   "metadata": {},
   "outputs": [],
   "source": [
    "data['SMA_60'] = data['price'].rolling(60).mean()"
   ]
  },
  {
   "cell_type": "code",
   "execution_count": 16,
   "metadata": {},
   "outputs": [
    {
     "data": {
      "text/html": [
       "<div>\n",
       "<style scoped>\n",
       "    .dataframe tbody tr th:only-of-type {\n",
       "        vertical-align: middle;\n",
       "    }\n",
       "\n",
       "    .dataframe tbody tr th {\n",
       "        vertical-align: top;\n",
       "    }\n",
       "\n",
       "    .dataframe thead th {\n",
       "        text-align: right;\n",
       "    }\n",
       "</style>\n",
       "<table border=\"1\" class=\"dataframe\">\n",
       "  <thead>\n",
       "    <tr style=\"text-align: right;\">\n",
       "      <th></th>\n",
       "      <th>open</th>\n",
       "      <th>price</th>\n",
       "      <th>high</th>\n",
       "      <th>low</th>\n",
       "      <th>SMA_10</th>\n",
       "      <th>SMA_60</th>\n",
       "    </tr>\n",
       "    <tr>\n",
       "      <th>date</th>\n",
       "      <th></th>\n",
       "      <th></th>\n",
       "      <th></th>\n",
       "      <th></th>\n",
       "      <th></th>\n",
       "      <th></th>\n",
       "    </tr>\n",
       "  </thead>\n",
       "  <tbody>\n",
       "    <tr>\n",
       "      <td>2019-12-16</td>\n",
       "      <td>3970.71</td>\n",
       "      <td>3987.55</td>\n",
       "      <td>3987.59</td>\n",
       "      <td>3953.51</td>\n",
       "      <td>3902.803</td>\n",
       "      <td>3900.202333</td>\n",
       "    </tr>\n",
       "    <tr>\n",
       "      <td>2019-12-17</td>\n",
       "      <td>3987.74</td>\n",
       "      <td>4041.80</td>\n",
       "      <td>4067.14</td>\n",
       "      <td>3984.52</td>\n",
       "      <td>3921.874</td>\n",
       "      <td>3902.712000</td>\n",
       "    </tr>\n",
       "    <tr>\n",
       "      <td>2019-12-18</td>\n",
       "      <td>4039.72</td>\n",
       "      <td>4032.78</td>\n",
       "      <td>4057.64</td>\n",
       "      <td>4025.34</td>\n",
       "      <td>3940.170</td>\n",
       "      <td>3904.757000</td>\n",
       "    </tr>\n",
       "    <tr>\n",
       "      <td>2019-12-19</td>\n",
       "      <td>4034.62</td>\n",
       "      <td>4027.15</td>\n",
       "      <td>4038.54</td>\n",
       "      <td>4014.90</td>\n",
       "      <td>3954.949</td>\n",
       "      <td>3906.469833</td>\n",
       "    </tr>\n",
       "    <tr>\n",
       "      <td>2019-12-20</td>\n",
       "      <td>4032.15</td>\n",
       "      <td>4017.25</td>\n",
       "      <td>4046.73</td>\n",
       "      <td>4014.93</td>\n",
       "      <td>3966.435</td>\n",
       "      <td>3907.829833</td>\n",
       "    </tr>\n",
       "  </tbody>\n",
       "</table>\n",
       "</div>"
      ],
      "text/plain": [
       "               open    price     high      low    SMA_10       SMA_60\n",
       "date                                                                 \n",
       "2019-12-16  3970.71  3987.55  3987.59  3953.51  3902.803  3900.202333\n",
       "2019-12-17  3987.74  4041.80  4067.14  3984.52  3921.874  3902.712000\n",
       "2019-12-18  4039.72  4032.78  4057.64  4025.34  3940.170  3904.757000\n",
       "2019-12-19  4034.62  4027.15  4038.54  4014.90  3954.949  3906.469833\n",
       "2019-12-20  4032.15  4017.25  4046.73  4014.93  3966.435  3907.829833"
      ]
     },
     "execution_count": 16,
     "metadata": {},
     "output_type": "execute_result"
    }
   ],
   "source": [
    "data.tail()"
   ]
  },
  {
   "cell_type": "code",
   "execution_count": 17,
   "metadata": {},
   "outputs": [
    {
     "data": {
      "text/plain": [
       "<matplotlib.axes._subplots.AxesSubplot at 0x1a2b4ed150>"
      ]
     },
     "execution_count": 17,
     "metadata": {},
     "output_type": "execute_result"
    },
    {
     "data": {
      "image/png": "[encoded data removed]",
      "text/plain": [
       "<Figure size 720x432 with 1 Axes>"
      ]
     },
     "metadata": {
      "needs_background": "light"
     },
     "output_type": "display_data"
    }
   ],
   "source": [
    "data[['price','SMA_10','SMA_60']].plot(title='HS300 stock price | 10 & 60 days SMAs', figsize=(10, 6))"
   ]
  },
  {
   "cell_type": "markdown",
   "metadata": {},
   "source": [
    "## 2,策略开发思路"
   ]
  },
  {
   "cell_type": "code",
   "execution_count": 18,
   "metadata": {},
   "outputs": [],
   "source": [
    "data['position'] = np.where(data['SMA_10'] > data['SMA_60'], 1, -1)"
   ]
  },
  {
   "cell_type": "code",
   "execution_count": 19,
   "metadata": {},
   "outputs": [
    {
     "data": {
      "text/html": [
       "<div>\n",
       "<style scoped>\n",
       "    .dataframe tbody tr th:only-of-type {\n",
       "        vertical-align: middle;\n",
       "    }\n",
       "\n",
       "    .dataframe tbody tr th {\n",
       "        vertical-align: top;\n",
       "    }\n",
       "\n",
       "    .dataframe thead th {\n",
       "        text-align: right;\n",
       "    }\n",
       "</style>\n",
       "<table border=\"1\" class=\"dataframe\">\n",
       "  <thead>\n",
       "    <tr style=\"text-align: right;\">\n",
       "      <th></th>\n",
       "      <th>open</th>\n",
       "      <th>price</th>\n",
       "      <th>high</th>\n",
       "      <th>low</th>\n",
       "      <th>SMA_10</th>\n",
       "      <th>SMA_60</th>\n",
       "      <th>position</th>\n",
       "    </tr>\n",
       "    <tr>\n",
       "      <th>date</th>\n",
       "      <th></th>\n",
       "      <th></th>\n",
       "      <th></th>\n",
       "      <th></th>\n",
       "      <th></th>\n",
       "      <th></th>\n",
       "      <th></th>\n",
       "    </tr>\n",
       "  </thead>\n",
       "  <tbody>\n",
       "    <tr>\n",
       "      <td>2015-01-05</td>\n",
       "      <td>3566.09</td>\n",
       "      <td>3641.54</td>\n",
       "      <td>3669.04</td>\n",
       "      <td>3551.51</td>\n",
       "      <td>NaN</td>\n",
       "      <td>NaN</td>\n",
       "      <td>-1</td>\n",
       "    </tr>\n",
       "    <tr>\n",
       "      <td>2015-01-06</td>\n",
       "      <td>3608.43</td>\n",
       "      <td>3641.06</td>\n",
       "      <td>3683.23</td>\n",
       "      <td>3587.23</td>\n",
       "      <td>NaN</td>\n",
       "      <td>NaN</td>\n",
       "      <td>-1</td>\n",
       "    </tr>\n",
       "    <tr>\n",
       "      <td>2015-01-07</td>\n",
       "      <td>3620.92</td>\n",
       "      <td>3643.79</td>\n",
       "      <td>3671.19</td>\n",
       "      <td>3601.70</td>\n",
       "      <td>NaN</td>\n",
       "      <td>NaN</td>\n",
       "      <td>-1</td>\n",
       "    </tr>\n",
       "    <tr>\n",
       "      <td>2015-01-08</td>\n",
       "      <td>3650.07</td>\n",
       "      <td>3559.26</td>\n",
       "      <td>3659.95</td>\n",
       "      <td>3552.10</td>\n",
       "      <td>NaN</td>\n",
       "      <td>NaN</td>\n",
       "      <td>-1</td>\n",
       "    </tr>\n",
       "    <tr>\n",
       "      <td>2015-01-09</td>\n",
       "      <td>3547.57</td>\n",
       "      <td>3546.72</td>\n",
       "      <td>3689.75</td>\n",
       "      <td>3536.40</td>\n",
       "      <td>NaN</td>\n",
       "      <td>NaN</td>\n",
       "      <td>-1</td>\n",
       "    </tr>\n",
       "  </tbody>\n",
       "</table>\n",
       "</div>"
      ],
      "text/plain": [
       "               open    price     high      low  SMA_10  SMA_60  position\n",
       "date                                                                    \n",
       "2015-01-05  3566.09  3641.54  3669.04  3551.51     NaN     NaN        -1\n",
       "2015-01-06  3608.43  3641.06  3683.23  3587.23     NaN     NaN        -1\n",
       "2015-01-07  3620.92  3643.79  3671.19  3601.70     NaN     NaN        -1\n",
       "2015-01-08  3650.07  3559.26  3659.95  3552.10     NaN     NaN        -1\n",
       "2015-01-09  3547.57  3546.72  3689.75  3536.40     NaN     NaN        -1"
      ]
     },
     "execution_count": 19,
     "metadata": {},
     "output_type": "execute_result"
    }
   ],
   "source": [
    "data.head()"
   ]
  },
  {
   "cell_type": "code",
   "execution_count": 20,
   "metadata": {},
   "outputs": [],
   "source": [
    "data.dropna(inplace=True)"
   ]
  },
  {
   "cell_type": "code",
   "execution_count": 21,
   "metadata": {},
   "outputs": [
    {
     "data": {
      "text/plain": [
       "<matplotlib.axes._subplots.AxesSubplot at 0x1a2ca60a50>"
      ]
     },
     "execution_count": 21,
     "metadata": {},
     "output_type": "execute_result"
    },
    {
     "data": {
      "image/png": "[encoded data removed]",
      "text/plain": [
       "<Figure size 432x288 with 1 Axes>"
      ]
     },
     "metadata": {
      "needs_background": "light"
     },
     "output_type": "display_data"
    }
   ],
   "source": [
    "data['position'].plot(ylim=[-1.1, 1.1], title='Market Positioning')"
   ]
  },
  {
   "cell_type": "markdown",
   "metadata": {},
   "source": [
    "## 3.计算策略年化收益并可视化"
   ]
  },
  {
   "cell_type": "code",
   "execution_count": 23,
   "metadata": {},
   "outputs": [],
   "source": [
    "data['returns'] = np.log(data['price'] / data['price'].shift(1))"
   ]
  },
  {
   "cell_type": "code",
   "execution_count": 24,
   "metadata": {},
   "outputs": [
    {
     "data": {
      "text/html": [
       "<div>\n",
       "<style scoped>\n",
       "    .dataframe tbody tr th:only-of-type {\n",
       "        vertical-align: middle;\n",
       "    }\n",
       "\n",
       "    .dataframe tbody tr th {\n",
       "        vertical-align: top;\n",
       "    }\n",
       "\n",
       "    .dataframe thead th {\n",
       "        text-align: right;\n",
       "    }\n",
       "</style>\n",
       "<table border=\"1\" class=\"dataframe\">\n",
       "  <thead>\n",
       "    <tr style=\"text-align: right;\">\n",
       "      <th></th>\n",
       "      <th>open</th>\n",
       "      <th>price</th>\n",
       "      <th>high</th>\n",
       "      <th>low</th>\n",
       "      <th>SMA_10</th>\n",
       "      <th>SMA_60</th>\n",
       "      <th>position</th>\n",
       "      <th>returns</th>\n",
       "    </tr>\n",
       "    <tr>\n",
       "      <th>date</th>\n",
       "      <th></th>\n",
       "      <th></th>\n",
       "      <th></th>\n",
       "      <th></th>\n",
       "      <th></th>\n",
       "      <th></th>\n",
       "      <th></th>\n",
       "      <th></th>\n",
       "    </tr>\n",
       "  </thead>\n",
       "  <tbody>\n",
       "    <tr>\n",
       "      <td>2015-04-03</td>\n",
       "      <td>4104.67</td>\n",
       "      <td>4170.54</td>\n",
       "      <td>4170.56</td>\n",
       "      <td>4092.38</td>\n",
       "      <td>4036.5817</td>\n",
       "      <td>3621.548783</td>\n",
       "      <td>1</td>\n",
       "      <td>NaN</td>\n",
       "    </tr>\n",
       "    <tr>\n",
       "      <td>2015-04-07</td>\n",
       "      <td>4213.89</td>\n",
       "      <td>4260.04</td>\n",
       "      <td>4260.47</td>\n",
       "      <td>4197.02</td>\n",
       "      <td>4065.3797</td>\n",
       "      <td>3631.857117</td>\n",
       "      <td>1</td>\n",
       "      <td>0.021233</td>\n",
       "    </tr>\n",
       "    <tr>\n",
       "      <td>2015-04-08</td>\n",
       "      <td>4277.45</td>\n",
       "      <td>4295.80</td>\n",
       "      <td>4304.78</td>\n",
       "      <td>4204.83</td>\n",
       "      <td>4097.6547</td>\n",
       "      <td>3642.769450</td>\n",
       "      <td>1</td>\n",
       "      <td>0.008359</td>\n",
       "    </tr>\n",
       "    <tr>\n",
       "      <td>2015-04-09</td>\n",
       "      <td>4316.96</td>\n",
       "      <td>4262.14</td>\n",
       "      <td>4332.17</td>\n",
       "      <td>4212.61</td>\n",
       "      <td>4129.8277</td>\n",
       "      <td>3653.075283</td>\n",
       "      <td>1</td>\n",
       "      <td>-0.007866</td>\n",
       "    </tr>\n",
       "    <tr>\n",
       "      <td>2015-04-10</td>\n",
       "      <td>4249.38</td>\n",
       "      <td>4344.42</td>\n",
       "      <td>4351.69</td>\n",
       "      <td>4231.20</td>\n",
       "      <td>4169.2697</td>\n",
       "      <td>3666.161283</td>\n",
       "      <td>1</td>\n",
       "      <td>0.019121</td>\n",
       "    </tr>\n",
       "  </tbody>\n",
       "</table>\n",
       "</div>"
      ],
      "text/plain": [
       "               open    price     high      low     SMA_10       SMA_60  \\\n",
       "date                                                                     \n",
       "2015-04-03  4104.67  4170.54  4170.56  4092.38  4036.5817  3621.548783   \n",
       "2015-04-07  4213.89  4260.04  4260.47  4197.02  4065.3797  3631.857117   \n",
       "2015-04-08  4277.45  4295.80  4304.78  4204.83  4097.6547  3642.769450   \n",
       "2015-04-09  4316.96  4262.14  4332.17  4212.61  4129.8277  3653.075283   \n",
       "2015-04-10  4249.38  4344.42  4351.69  4231.20  4169.2697  3666.161283   \n",
       "\n",
       "            position   returns  \n",
       "date                            \n",
       "2015-04-03         1       NaN  \n",
       "2015-04-07         1  0.021233  \n",
       "2015-04-08         1  0.008359  \n",
       "2015-04-09         1 -0.007866  \n",
       "2015-04-10         1  0.019121  "
      ]
     },
     "execution_count": 24,
     "metadata": {},
     "output_type": "execute_result"
    }
   ],
   "source": [
    "data.head()"
   ]
  },
  {
   "cell_type": "code",
   "execution_count": 25,
   "metadata": {},
   "outputs": [
    {
     "data": {
      "text/plain": [
       "<matplotlib.axes._subplots.AxesSubplot at 0x1a2cace350>"
      ]
     },
     "execution_count": 25,
     "metadata": {},
     "output_type": "execute_result"
    },
    {
     "data": {
      "image/png": "[encoded data removed]",
      "text/plain": [
       "<Figure size 432x288 with 1 Axes>"
      ]
     },
     "metadata": {
      "needs_background": "light"
     },
     "output_type": "display_data"
    }
   ],
   "source": [
    "data['returns'].hist(bins=35)"
   ]
  },
  {
   "cell_type": "code",
   "execution_count": 26,
   "metadata": {},
   "outputs": [],
   "source": [
    "data['strategy'] = data['position'].shift(1) * data['returns']"
   ]
  },
  {
   "cell_type": "code",
   "execution_count": 27,
   "metadata": {},
   "outputs": [
    {
     "data": {
      "text/plain": [
       "returns    -0.037448\n",
       "strategy    0.388014\n",
       "dtype: float64"
      ]
     },
     "execution_count": 27,
     "metadata": {},
     "output_type": "execute_result"
    }
   ],
   "source": [
    "data[['returns','strategy']].sum()"
   ]
  },
  {
   "cell_type": "code",
   "execution_count": 29,
   "metadata": {},
   "outputs": [
    {
     "data": {
      "text/plain": [
       "<matplotlib.axes._subplots.AxesSubplot at 0x1a2cf297d0>"
      ]
     },
     "execution_count": 29,
     "metadata": {},
     "output_type": "execute_result"
    },
    {
     "data": {
      "image/png": "[encoded data removed]",
      "text/plain": [
       "<Figure size 720x432 with 1 Axes>"
      ]
     },
     "metadata": {
      "needs_background": "light"
     },
     "output_type": "display_data"
    }
   ],
   "source": [
    "data[['returns', 'strategy']].cumsum().apply(np.exp).plot(figsize=(10, 6))"
   ]
  },
  {
   "cell_type": "markdown",
   "metadata": {},
   "source": [
    "## 4. 策略收益风险评估"
   ]
  },
  {
   "cell_type": "code",
   "execution_count": 30,
   "metadata": {},
   "outputs": [
    {
     "data": {
      "text/plain": [
       "returns    -0.008192\n",
       "strategy    0.084878\n",
       "dtype: float64"
      ]
     },
     "execution_count": 30,
     "metadata": {},
     "output_type": "execute_result"
    }
   ],
   "source": [
    "data[['returns', 'strategy']].mean() * 252  #年化收益率；"
   ]
  },
  {
   "cell_type": "code",
   "execution_count": 31,
   "metadata": {},
   "outputs": [
    {
     "data": {
      "text/plain": [
       "returns     0.245069\n",
       "strategy    0.245011\n",
       "dtype: float64"
      ]
     },
     "execution_count": 31,
     "metadata": {},
     "output_type": "execute_result"
    }
   ],
   "source": [
    "data[['returns', 'strategy']].std() * 252 ** 0.5 #年化风险；"
   ]
  },
  {
   "cell_type": "code",
   "execution_count": 32,
   "metadata": {},
   "outputs": [],
   "source": [
    "data['cumret'] = data['strategy'].cumsum().apply(np.exp)"
   ]
  },
  {
   "cell_type": "code",
   "execution_count": 33,
   "metadata": {},
   "outputs": [],
   "source": [
    "data['cummax'] = data['cumret'].cummax()"
   ]
  },
  {
   "cell_type": "code",
   "execution_count": 34,
   "metadata": {},
   "outputs": [
    {
     "data": {
      "text/html": [
       "<div>\n",
       "<style scoped>\n",
       "    .dataframe tbody tr th:only-of-type {\n",
       "        vertical-align: middle;\n",
       "    }\n",
       "\n",
       "    .dataframe tbody tr th {\n",
       "        vertical-align: top;\n",
       "    }\n",
       "\n",
       "    .dataframe thead th {\n",
       "        text-align: right;\n",
       "    }\n",
       "</style>\n",
       "<table border=\"1\" class=\"dataframe\">\n",
       "  <thead>\n",
       "    <tr style=\"text-align: right;\">\n",
       "      <th></th>\n",
       "      <th>open</th>\n",
       "      <th>price</th>\n",
       "      <th>high</th>\n",
       "      <th>low</th>\n",
       "      <th>SMA_10</th>\n",
       "      <th>SMA_60</th>\n",
       "      <th>position</th>\n",
       "      <th>returns</th>\n",
       "      <th>strategy</th>\n",
       "      <th>cumret</th>\n",
       "      <th>cummax</th>\n",
       "    </tr>\n",
       "    <tr>\n",
       "      <th>date</th>\n",
       "      <th></th>\n",
       "      <th></th>\n",
       "      <th></th>\n",
       "      <th></th>\n",
       "      <th></th>\n",
       "      <th></th>\n",
       "      <th></th>\n",
       "      <th></th>\n",
       "      <th></th>\n",
       "      <th></th>\n",
       "      <th></th>\n",
       "    </tr>\n",
       "  </thead>\n",
       "  <tbody>\n",
       "    <tr>\n",
       "      <td>2019-12-16</td>\n",
       "      <td>3970.71</td>\n",
       "      <td>3987.55</td>\n",
       "      <td>3987.59</td>\n",
       "      <td>3953.51</td>\n",
       "      <td>3902.803</td>\n",
       "      <td>3900.202333</td>\n",
       "      <td>1</td>\n",
       "      <td>0.004859</td>\n",
       "      <td>-0.004859</td>\n",
       "      <td>1.463153</td>\n",
       "      <td>2.014794</td>\n",
       "    </tr>\n",
       "    <tr>\n",
       "      <td>2019-12-17</td>\n",
       "      <td>3987.74</td>\n",
       "      <td>4041.80</td>\n",
       "      <td>4067.14</td>\n",
       "      <td>3984.52</td>\n",
       "      <td>3921.874</td>\n",
       "      <td>3902.712000</td>\n",
       "      <td>1</td>\n",
       "      <td>0.013513</td>\n",
       "      <td>0.013513</td>\n",
       "      <td>1.483059</td>\n",
       "      <td>2.014794</td>\n",
       "    </tr>\n",
       "    <tr>\n",
       "      <td>2019-12-18</td>\n",
       "      <td>4039.72</td>\n",
       "      <td>4032.78</td>\n",
       "      <td>4057.64</td>\n",
       "      <td>4025.34</td>\n",
       "      <td>3940.170</td>\n",
       "      <td>3904.757000</td>\n",
       "      <td>1</td>\n",
       "      <td>-0.002234</td>\n",
       "      <td>-0.002234</td>\n",
       "      <td>1.479749</td>\n",
       "      <td>2.014794</td>\n",
       "    </tr>\n",
       "    <tr>\n",
       "      <td>2019-12-19</td>\n",
       "      <td>4034.62</td>\n",
       "      <td>4027.15</td>\n",
       "      <td>4038.54</td>\n",
       "      <td>4014.90</td>\n",
       "      <td>3954.949</td>\n",
       "      <td>3906.469833</td>\n",
       "      <td>1</td>\n",
       "      <td>-0.001397</td>\n",
       "      <td>-0.001397</td>\n",
       "      <td>1.477683</td>\n",
       "      <td>2.014794</td>\n",
       "    </tr>\n",
       "    <tr>\n",
       "      <td>2019-12-20</td>\n",
       "      <td>4032.15</td>\n",
       "      <td>4017.25</td>\n",
       "      <td>4046.73</td>\n",
       "      <td>4014.93</td>\n",
       "      <td>3966.435</td>\n",
       "      <td>3907.829833</td>\n",
       "      <td>1</td>\n",
       "      <td>-0.002461</td>\n",
       "      <td>-0.002461</td>\n",
       "      <td>1.474051</td>\n",
       "      <td>2.014794</td>\n",
       "    </tr>\n",
       "  </tbody>\n",
       "</table>\n",
       "</div>"
      ],
      "text/plain": [
       "               open    price     high      low    SMA_10       SMA_60  \\\n",
       "date                                                                    \n",
       "2019-12-16  3970.71  3987.55  3987.59  3953.51  3902.803  3900.202333   \n",
       "2019-12-17  3987.74  4041.80  4067.14  3984.52  3921.874  3902.712000   \n",
       "2019-12-18  4039.72  4032.78  4057.64  4025.34  3940.170  3904.757000   \n",
       "2019-12-19  4034.62  4027.15  4038.54  4014.90  3954.949  3906.469833   \n",
       "2019-12-20  4032.15  4017.25  4046.73  4014.93  3966.435  3907.829833   \n",
       "\n",
       "            position   returns  strategy    cumret    cummax  \n",
       "date                                                          \n",
       "2019-12-16         1  0.004859 -0.004859  1.463153  2.014794  \n",
       "2019-12-17         1  0.013513  0.013513  1.483059  2.014794  \n",
       "2019-12-18         1 -0.002234 -0.002234  1.479749  2.014794  \n",
       "2019-12-19         1 -0.001397 -0.001397  1.477683  2.014794  \n",
       "2019-12-20         1 -0.002461 -0.002461  1.474051  2.014794  "
      ]
     },
     "execution_count": 34,
     "metadata": {},
     "output_type": "execute_result"
    }
   ],
   "source": [
    "data.tail()"
   ]
  },
  {
   "cell_type": "code",
   "execution_count": 35,
   "metadata": {},
   "outputs": [
    {
     "data": {
      "text/plain": [
       "<matplotlib.axes._subplots.AxesSubplot at 0x1a2e1c3d90>"
      ]
     },
     "execution_count": 35,
     "metadata": {},
     "output_type": "execute_result"
    },
    {
     "data": {
      "image/png": "[encoded data removed]",
      "text/plain": [
       "<Figure size 720x432 with 1 Axes>"
      ]
     },
     "metadata": {
      "needs_background": "light"
     },
     "output_type": "display_data"
    }
   ],
   "source": [
    "data[['cumret','cummax']].plot(figsize=(10, 6))"
   ]
  },
  {
   "cell_type": "code",
   "execution_count": 36,
   "metadata": {},
   "outputs": [],
   "source": [
    "drawdown = (data['cummax'] - data['cumret'])"
   ]
  },
  {
   "cell_type": "code",
   "execution_count": 39,
   "metadata": {},
   "outputs": [
    {
     "data": {
      "text/plain": [
       "0.5516412172463891"
      ]
     },
     "execution_count": 39,
     "metadata": {},
     "output_type": "execute_result"
    }
   ],
   "source": [
    "drawdown.max()"
   ]
  },
  {
   "cell_type": "markdown",
   "metadata": {},
   "source": [
    "## 5. 策略优化的一种思路"
   ]
  },
  {
   "cell_type": "code",
   "execution_count": 42,
   "metadata": {},
   "outputs": [],
   "source": [
    "hs300 = ts.get_k_data('hs300', start='2015-01-01',end='2019-12-20')"
   ]
  },
  {
   "cell_type": "code",
   "execution_count": 43,
   "metadata": {},
   "outputs": [],
   "source": [
    "hs300.rename(columns={'close': 'price'}, inplace=True) "
   ]
  },
  {
   "cell_type": "code",
   "execution_count": 44,
   "metadata": {},
   "outputs": [
    {
     "data": {
      "text/html": [
       "<div>\n",
       "<style scoped>\n",
       "    .dataframe tbody tr th:only-of-type {\n",
       "        vertical-align: middle;\n",
       "    }\n",
       "\n",
       "    .dataframe tbody tr th {\n",
       "        vertical-align: top;\n",
       "    }\n",
       "\n",
       "    .dataframe thead th {\n",
       "        text-align: right;\n",
       "    }\n",
       "</style>\n",
       "<table border=\"1\" class=\"dataframe\">\n",
       "  <thead>\n",
       "    <tr style=\"text-align: right;\">\n",
       "      <th></th>\n",
       "      <th>open</th>\n",
       "      <th>price</th>\n",
       "      <th>high</th>\n",
       "      <th>low</th>\n",
       "      <th>volume</th>\n",
       "      <th>code</th>\n",
       "    </tr>\n",
       "    <tr>\n",
       "      <th>date</th>\n",
       "      <th></th>\n",
       "      <th></th>\n",
       "      <th></th>\n",
       "      <th></th>\n",
       "      <th></th>\n",
       "      <th></th>\n",
       "    </tr>\n",
       "  </thead>\n",
       "  <tbody>\n",
       "    <tr>\n",
       "      <td>2015-01-05</td>\n",
       "      <td>3566.09</td>\n",
       "      <td>3641.54</td>\n",
       "      <td>3669.04</td>\n",
       "      <td>3551.51</td>\n",
       "      <td>451198098.0</td>\n",
       "      <td>hs300</td>\n",
       "    </tr>\n",
       "    <tr>\n",
       "      <td>2015-01-06</td>\n",
       "      <td>3608.43</td>\n",
       "      <td>3641.06</td>\n",
       "      <td>3683.23</td>\n",
       "      <td>3587.23</td>\n",
       "      <td>420962185.0</td>\n",
       "      <td>hs300</td>\n",
       "    </tr>\n",
       "    <tr>\n",
       "      <td>2015-01-07</td>\n",
       "      <td>3620.92</td>\n",
       "      <td>3643.79</td>\n",
       "      <td>3671.19</td>\n",
       "      <td>3601.70</td>\n",
       "      <td>320191232.0</td>\n",
       "      <td>hs300</td>\n",
       "    </tr>\n",
       "    <tr>\n",
       "      <td>2015-01-08</td>\n",
       "      <td>3650.07</td>\n",
       "      <td>3559.26</td>\n",
       "      <td>3659.95</td>\n",
       "      <td>3552.10</td>\n",
       "      <td>295003045.0</td>\n",
       "      <td>hs300</td>\n",
       "    </tr>\n",
       "    <tr>\n",
       "      <td>2015-01-09</td>\n",
       "      <td>3547.57</td>\n",
       "      <td>3546.72</td>\n",
       "      <td>3689.75</td>\n",
       "      <td>3536.40</td>\n",
       "      <td>349982672.0</td>\n",
       "      <td>hs300</td>\n",
       "    </tr>\n",
       "  </tbody>\n",
       "</table>\n",
       "</div>"
      ],
      "text/plain": [
       "               open    price     high      low       volume   code\n",
       "date                                                              \n",
       "2015-01-05  3566.09  3641.54  3669.04  3551.51  451198098.0  hs300\n",
       "2015-01-06  3608.43  3641.06  3683.23  3587.23  420962185.0  hs300\n",
       "2015-01-07  3620.92  3643.79  3671.19  3601.70  320191232.0  hs300\n",
       "2015-01-08  3650.07  3559.26  3659.95  3552.10  295003045.0  hs300\n",
       "2015-01-09  3547.57  3546.72  3689.75  3536.40  349982672.0  hs300"
      ]
     },
     "execution_count": 44,
     "metadata": {},
     "output_type": "execute_result"
    }
   ],
   "source": [
    "hs300.set_index('date',inplace = True)\n",
    "hs300.head()"
   ]
  },
  {
   "cell_type": "code",
   "execution_count": 45,
   "metadata": {},
   "outputs": [
    {
     "data": {
      "text/html": [
       "<div>\n",
       "<style scoped>\n",
       "    .dataframe tbody tr th:only-of-type {\n",
       "        vertical-align: middle;\n",
       "    }\n",
       "\n",
       "    .dataframe tbody tr th {\n",
       "        vertical-align: top;\n",
       "    }\n",
       "\n",
       "    .dataframe thead th {\n",
       "        text-align: right;\n",
       "    }\n",
       "</style>\n",
       "<table border=\"1\" class=\"dataframe\">\n",
       "  <thead>\n",
       "    <tr style=\"text-align: right;\">\n",
       "      <th></th>\n",
       "      <th>price</th>\n",
       "      <th>SMA_10</th>\n",
       "      <th>SMA_60</th>\n",
       "    </tr>\n",
       "    <tr>\n",
       "      <th>date</th>\n",
       "      <th></th>\n",
       "      <th></th>\n",
       "      <th></th>\n",
       "    </tr>\n",
       "  </thead>\n",
       "  <tbody>\n",
       "    <tr>\n",
       "      <td>2019-12-16</td>\n",
       "      <td>3987.55</td>\n",
       "      <td>3902.803</td>\n",
       "      <td>3900.202333</td>\n",
       "    </tr>\n",
       "    <tr>\n",
       "      <td>2019-12-17</td>\n",
       "      <td>4041.80</td>\n",
       "      <td>3921.874</td>\n",
       "      <td>3902.712000</td>\n",
       "    </tr>\n",
       "    <tr>\n",
       "      <td>2019-12-18</td>\n",
       "      <td>4032.78</td>\n",
       "      <td>3940.170</td>\n",
       "      <td>3904.757000</td>\n",
       "    </tr>\n",
       "    <tr>\n",
       "      <td>2019-12-19</td>\n",
       "      <td>4027.15</td>\n",
       "      <td>3954.949</td>\n",
       "      <td>3906.469833</td>\n",
       "    </tr>\n",
       "    <tr>\n",
       "      <td>2019-12-20</td>\n",
       "      <td>4017.25</td>\n",
       "      <td>3966.435</td>\n",
       "      <td>3907.829833</td>\n",
       "    </tr>\n",
       "  </tbody>\n",
       "</table>\n",
       "</div>"
      ],
      "text/plain": [
       "              price    SMA_10       SMA_60\n",
       "date                                      \n",
       "2019-12-16  3987.55  3902.803  3900.202333\n",
       "2019-12-17  4041.80  3921.874  3902.712000\n",
       "2019-12-18  4032.78  3940.170  3904.757000\n",
       "2019-12-19  4027.15  3954.949  3906.469833\n",
       "2019-12-20  4017.25  3966.435  3907.829833"
      ]
     },
     "execution_count": 45,
     "metadata": {},
     "output_type": "execute_result"
    }
   ],
   "source": [
    "hs300['SMA_10'] = hs300['price'].rolling(10).mean()\n",
    "hs300['SMA_60'] = hs300['price'].rolling(60).mean()\n",
    "hs300[['price','SMA_10','SMA_60']].tail()"
   ]
  },
  {
   "cell_type": "code",
   "execution_count": 47,
   "metadata": {},
   "outputs": [
    {
     "data": {
      "text/plain": [
       "<matplotlib.axes._subplots.AxesSubplot at 0x1a2b24da90>"
      ]
     },
     "execution_count": 47,
     "metadata": {},
     "output_type": "execute_result"
    },
    {
     "data": {
      "image/png": "[encoded data removed]",
      "text/plain": [
       "<Figure size 720x576 with 1 Axes>"
      ]
     },
     "metadata": {
      "needs_background": "light"
     },
     "output_type": "display_data"
    }
   ],
   "source": [
    "hs300[['price','SMA_10','SMA_60']].plot(grid=True, figsize=(10,8))"
   ]
  },
  {
   "cell_type": "code",
   "execution_count": 48,
   "metadata": {},
   "outputs": [
    {
     "data": {
      "text/plain": [
       "date\n",
       "2019-12-16     2.600667\n",
       "2019-12-17    19.162000\n",
       "2019-12-18    35.413000\n",
       "2019-12-19    48.479167\n",
       "2019-12-20    58.605167\n",
       "Name: 10-60, dtype: float64"
      ]
     },
     "execution_count": 48,
     "metadata": {},
     "output_type": "execute_result"
    }
   ],
   "source": [
    "hs300['10-60'] = hs300['SMA_10'] - hs300['SMA_60']\n",
    "hs300['10-60'].tail()"
   ]
  },
  {
   "cell_type": "code",
   "execution_count": 49,
   "metadata": {},
   "outputs": [
    {
     "data": {
      "text/plain": [
       " 1    587\n",
       "-1    478\n",
       " 0    147\n",
       "Name: regime, dtype: int64"
      ]
     },
     "execution_count": 49,
     "metadata": {},
     "output_type": "execute_result"
    }
   ],
   "source": [
    "SD = 20 #阙值\n",
    "hs300['regime'] = np.where(hs300['10-60'] > SD, 1, 0)\n",
    "hs300['regime'] = np.where(hs300['10-60'] < -SD, -1, hs300['regime'])\n",
    "hs300['regime'].value_counts()"
   ]
  },
  {
   "cell_type": "code",
   "execution_count": 50,
   "metadata": {},
   "outputs": [
    {
     "data": {
      "text/html": [
       "<div>\n",
       "<style scoped>\n",
       "    .dataframe tbody tr th:only-of-type {\n",
       "        vertical-align: middle;\n",
       "    }\n",
       "\n",
       "    .dataframe tbody tr th {\n",
       "        vertical-align: top;\n",
       "    }\n",
       "\n",
       "    .dataframe thead th {\n",
       "        text-align: right;\n",
       "    }\n",
       "</style>\n",
       "<table border=\"1\" class=\"dataframe\">\n",
       "  <thead>\n",
       "    <tr style=\"text-align: right;\">\n",
       "      <th></th>\n",
       "      <th>open</th>\n",
       "      <th>price</th>\n",
       "      <th>high</th>\n",
       "      <th>low</th>\n",
       "      <th>volume</th>\n",
       "      <th>code</th>\n",
       "      <th>SMA_10</th>\n",
       "      <th>SMA_60</th>\n",
       "      <th>10-60</th>\n",
       "      <th>regime</th>\n",
       "    </tr>\n",
       "    <tr>\n",
       "      <th>date</th>\n",
       "      <th></th>\n",
       "      <th></th>\n",
       "      <th></th>\n",
       "      <th></th>\n",
       "      <th></th>\n",
       "      <th></th>\n",
       "      <th></th>\n",
       "      <th></th>\n",
       "      <th></th>\n",
       "      <th></th>\n",
       "    </tr>\n",
       "  </thead>\n",
       "  <tbody>\n",
       "    <tr>\n",
       "      <td>2019-11-25</td>\n",
       "      <td>3850.97</td>\n",
       "      <td>3878.21</td>\n",
       "      <td>3878.25</td>\n",
       "      <td>3839.42</td>\n",
       "      <td>106066289.0</td>\n",
       "      <td>hs300</td>\n",
       "      <td>3896.725</td>\n",
       "      <td>3898.653333</td>\n",
       "      <td>-1.928333</td>\n",
       "      <td>0</td>\n",
       "    </tr>\n",
       "    <tr>\n",
       "      <td>2019-11-26</td>\n",
       "      <td>3893.43</td>\n",
       "      <td>3891.65</td>\n",
       "      <td>3899.11</td>\n",
       "      <td>3869.59</td>\n",
       "      <td>111513537.0</td>\n",
       "      <td>hs300</td>\n",
       "      <td>3895.521</td>\n",
       "      <td>3900.749000</td>\n",
       "      <td>-5.228000</td>\n",
       "      <td>0</td>\n",
       "    </tr>\n",
       "    <tr>\n",
       "      <td>2019-11-27</td>\n",
       "      <td>3883.43</td>\n",
       "      <td>3875.62</td>\n",
       "      <td>3889.98</td>\n",
       "      <td>3862.70</td>\n",
       "      <td>76437305.0</td>\n",
       "      <td>hs300</td>\n",
       "      <td>3893.085</td>\n",
       "      <td>3901.726833</td>\n",
       "      <td>-8.641833</td>\n",
       "      <td>0</td>\n",
       "    </tr>\n",
       "    <tr>\n",
       "      <td>2019-11-28</td>\n",
       "      <td>3877.90</td>\n",
       "      <td>3862.30</td>\n",
       "      <td>3887.69</td>\n",
       "      <td>3852.01</td>\n",
       "      <td>65230119.0</td>\n",
       "      <td>hs300</td>\n",
       "      <td>3888.729</td>\n",
       "      <td>3902.722167</td>\n",
       "      <td>-13.993167</td>\n",
       "      <td>0</td>\n",
       "    </tr>\n",
       "    <tr>\n",
       "      <td>2019-11-29</td>\n",
       "      <td>3857.19</td>\n",
       "      <td>3828.67</td>\n",
       "      <td>3861.66</td>\n",
       "      <td>3804.83</td>\n",
       "      <td>74144331.0</td>\n",
       "      <td>hs300</td>\n",
       "      <td>3883.887</td>\n",
       "      <td>3903.363500</td>\n",
       "      <td>-19.476500</td>\n",
       "      <td>0</td>\n",
       "    </tr>\n",
       "    <tr>\n",
       "      <td>2019-12-02</td>\n",
       "      <td>3835.51</td>\n",
       "      <td>3836.06</td>\n",
       "      <td>3854.75</td>\n",
       "      <td>3829.31</td>\n",
       "      <td>77412173.0</td>\n",
       "      <td>hs300</td>\n",
       "      <td>3876.700</td>\n",
       "      <td>3903.971333</td>\n",
       "      <td>-27.271333</td>\n",
       "      <td>-1</td>\n",
       "    </tr>\n",
       "    <tr>\n",
       "      <td>2019-12-03</td>\n",
       "      <td>3829.21</td>\n",
       "      <td>3851.09</td>\n",
       "      <td>3851.12</td>\n",
       "      <td>3811.63</td>\n",
       "      <td>73611240.0</td>\n",
       "      <td>hs300</td>\n",
       "      <td>3867.105</td>\n",
       "      <td>3904.017500</td>\n",
       "      <td>-36.912500</td>\n",
       "      <td>-1</td>\n",
       "    </tr>\n",
       "    <tr>\n",
       "      <td>2019-12-04</td>\n",
       "      <td>3841.66</td>\n",
       "      <td>3849.82</td>\n",
       "      <td>3852.99</td>\n",
       "      <td>3831.07</td>\n",
       "      <td>79683385.0</td>\n",
       "      <td>hs300</td>\n",
       "      <td>3861.301</td>\n",
       "      <td>3903.954333</td>\n",
       "      <td>-42.653333</td>\n",
       "      <td>-1</td>\n",
       "    </tr>\n",
       "    <tr>\n",
       "      <td>2019-12-05</td>\n",
       "      <td>3863.61</td>\n",
       "      <td>3879.36</td>\n",
       "      <td>3883.40</td>\n",
       "      <td>3859.82</td>\n",
       "      <td>89051193.0</td>\n",
       "      <td>hs300</td>\n",
       "      <td>3860.277</td>\n",
       "      <td>3903.843667</td>\n",
       "      <td>-43.566667</td>\n",
       "      <td>-1</td>\n",
       "    </tr>\n",
       "    <tr>\n",
       "      <td>2019-12-06</td>\n",
       "      <td>3885.06</td>\n",
       "      <td>3902.39</td>\n",
       "      <td>3902.39</td>\n",
       "      <td>3878.70</td>\n",
       "      <td>78648887.0</td>\n",
       "      <td>hs300</td>\n",
       "      <td>3865.517</td>\n",
       "      <td>3903.461500</td>\n",
       "      <td>-37.944500</td>\n",
       "      <td>-1</td>\n",
       "    </tr>\n",
       "    <tr>\n",
       "      <td>2019-12-09</td>\n",
       "      <td>3909.53</td>\n",
       "      <td>3895.45</td>\n",
       "      <td>3911.97</td>\n",
       "      <td>3885.25</td>\n",
       "      <td>95353806.0</td>\n",
       "      <td>hs300</td>\n",
       "      <td>3867.241</td>\n",
       "      <td>3902.577167</td>\n",
       "      <td>-35.336167</td>\n",
       "      <td>-1</td>\n",
       "    </tr>\n",
       "    <tr>\n",
       "      <td>2019-12-10</td>\n",
       "      <td>3886.44</td>\n",
       "      <td>3900.38</td>\n",
       "      <td>3900.96</td>\n",
       "      <td>3882.09</td>\n",
       "      <td>86262928.0</td>\n",
       "      <td>hs300</td>\n",
       "      <td>3868.114</td>\n",
       "      <td>3901.367667</td>\n",
       "      <td>-33.253667</td>\n",
       "      <td>-1</td>\n",
       "    </tr>\n",
       "    <tr>\n",
       "      <td>2019-12-11</td>\n",
       "      <td>3907.16</td>\n",
       "      <td>3902.75</td>\n",
       "      <td>3909.39</td>\n",
       "      <td>3890.34</td>\n",
       "      <td>99765480.0</td>\n",
       "      <td>hs300</td>\n",
       "      <td>3870.827</td>\n",
       "      <td>3900.425833</td>\n",
       "      <td>-29.598833</td>\n",
       "      <td>-1</td>\n",
       "    </tr>\n",
       "    <tr>\n",
       "      <td>2019-12-12</td>\n",
       "      <td>3908.45</td>\n",
       "      <td>3891.02</td>\n",
       "      <td>3908.45</td>\n",
       "      <td>3886.12</td>\n",
       "      <td>84708330.0</td>\n",
       "      <td>hs300</td>\n",
       "      <td>3873.699</td>\n",
       "      <td>3899.774500</td>\n",
       "      <td>-26.075500</td>\n",
       "      <td>-1</td>\n",
       "    </tr>\n",
       "    <tr>\n",
       "      <td>2019-12-13</td>\n",
       "      <td>3928.00</td>\n",
       "      <td>3968.22</td>\n",
       "      <td>3969.46</td>\n",
       "      <td>3925.28</td>\n",
       "      <td>148571349.0</td>\n",
       "      <td>hs300</td>\n",
       "      <td>3887.654</td>\n",
       "      <td>3899.705167</td>\n",
       "      <td>-12.051167</td>\n",
       "      <td>0</td>\n",
       "    </tr>\n",
       "    <tr>\n",
       "      <td>2019-12-16</td>\n",
       "      <td>3970.71</td>\n",
       "      <td>3987.55</td>\n",
       "      <td>3987.59</td>\n",
       "      <td>3953.51</td>\n",
       "      <td>148486670.0</td>\n",
       "      <td>hs300</td>\n",
       "      <td>3902.803</td>\n",
       "      <td>3900.202333</td>\n",
       "      <td>2.600667</td>\n",
       "      <td>0</td>\n",
       "    </tr>\n",
       "    <tr>\n",
       "      <td>2019-12-17</td>\n",
       "      <td>3987.74</td>\n",
       "      <td>4041.80</td>\n",
       "      <td>4067.14</td>\n",
       "      <td>3984.52</td>\n",
       "      <td>201162937.0</td>\n",
       "      <td>hs300</td>\n",
       "      <td>3921.874</td>\n",
       "      <td>3902.712000</td>\n",
       "      <td>19.162000</td>\n",
       "      <td>0</td>\n",
       "    </tr>\n",
       "    <tr>\n",
       "      <td>2019-12-18</td>\n",
       "      <td>4039.72</td>\n",
       "      <td>4032.78</td>\n",
       "      <td>4057.64</td>\n",
       "      <td>4025.34</td>\n",
       "      <td>151351764.0</td>\n",
       "      <td>hs300</td>\n",
       "      <td>3940.170</td>\n",
       "      <td>3904.757000</td>\n",
       "      <td>35.413000</td>\n",
       "      <td>1</td>\n",
       "    </tr>\n",
       "    <tr>\n",
       "      <td>2019-12-19</td>\n",
       "      <td>4034.62</td>\n",
       "      <td>4027.15</td>\n",
       "      <td>4038.54</td>\n",
       "      <td>4014.90</td>\n",
       "      <td>117900558.0</td>\n",
       "      <td>hs300</td>\n",
       "      <td>3954.949</td>\n",
       "      <td>3906.469833</td>\n",
       "      <td>48.479167</td>\n",
       "      <td>1</td>\n",
       "    </tr>\n",
       "    <tr>\n",
       "      <td>2019-12-20</td>\n",
       "      <td>4032.15</td>\n",
       "      <td>4017.25</td>\n",
       "      <td>4046.73</td>\n",
       "      <td>4014.93</td>\n",
       "      <td>121267662.0</td>\n",
       "      <td>hs300</td>\n",
       "      <td>3966.435</td>\n",
       "      <td>3907.829833</td>\n",
       "      <td>58.605167</td>\n",
       "      <td>1</td>\n",
       "    </tr>\n",
       "  </tbody>\n",
       "</table>\n",
       "</div>"
      ],
      "text/plain": [
       "               open    price     high      low       volume   code    SMA_10  \\\n",
       "date                                                                           \n",
       "2019-11-25  3850.97  3878.21  3878.25  3839.42  106066289.0  hs300  3896.725   \n",
       "2019-11-26  3893.43  3891.65  3899.11  3869.59  111513537.0  hs300  3895.521   \n",
       "2019-11-27  3883.43  3875.62  3889.98  3862.70   76437305.0  hs300  3893.085   \n",
       "2019-11-28  3877.90  3862.30  3887.69  3852.01   65230119.0  hs300  3888.729   \n",
       "2019-11-29  3857.19  3828.67  3861.66  3804.83   74144331.0  hs300  3883.887   \n",
       "2019-12-02  3835.51  3836.06  3854.75  3829.31   77412173.0  hs300  3876.700   \n",
       "2019-12-03  3829.21  3851.09  3851.12  3811.63   73611240.0  hs300  3867.105   \n",
       "2019-12-04  3841.66  3849.82  3852.99  3831.07   79683385.0  hs300  3861.301   \n",
       "2019-12-05  3863.61  3879.36  3883.40  3859.82   89051193.0  hs300  3860.277   \n",
       "2019-12-06  3885.06  3902.39  3902.39  3878.70   78648887.0  hs300  3865.517   \n",
       "2019-12-09  3909.53  3895.45  3911.97  3885.25   95353806.0  hs300  3867.241   \n",
       "2019-12-10  3886.44  3900.38  3900.96  3882.09   86262928.0  hs300  3868.114   \n",
       "2019-12-11  3907.16  3902.75  3909.39  3890.34   99765480.0  hs300  3870.827   \n",
       "2019-12-12  3908.45  3891.02  3908.45  3886.12   84708330.0  hs300  3873.699   \n",
       "2019-12-13  3928.00  3968.22  3969.46  3925.28  148571349.0  hs300  3887.654   \n",
       "2019-12-16  3970.71  3987.55  3987.59  3953.51  148486670.0  hs300  3902.803   \n",
       "2019-12-17  3987.74  4041.80  4067.14  3984.52  201162937.0  hs300  3921.874   \n",
       "2019-12-18  4039.72  4032.78  4057.64  4025.34  151351764.0  hs300  3940.170   \n",
       "2019-12-19  4034.62  4027.15  4038.54  4014.90  117900558.0  hs300  3954.949   \n",
       "2019-12-20  4032.15  4017.25  4046.73  4014.93  121267662.0  hs300  3966.435   \n",
       "\n",
       "                 SMA_60      10-60  regime  \n",
       "date                                        \n",
       "2019-11-25  3898.653333  -1.928333       0  \n",
       "2019-11-26  3900.749000  -5.228000       0  \n",
       "2019-11-27  3901.726833  -8.641833       0  \n",
       "2019-11-28  3902.722167 -13.993167       0  \n",
       "2019-11-29  3903.363500 -19.476500       0  \n",
       "2019-12-02  3903.971333 -27.271333      -1  \n",
       "2019-12-03  3904.017500 -36.912500      -1  \n",
       "2019-12-04  3903.954333 -42.653333      -1  \n",
       "2019-12-05  3903.843667 -43.566667      -1  \n",
       "2019-12-06  3903.461500 -37.944500      -1  \n",
       "2019-12-09  3902.577167 -35.336167      -1  \n",
       "2019-12-10  3901.367667 -33.253667      -1  \n",
       "2019-12-11  3900.425833 -29.598833      -1  \n",
       "2019-12-12  3899.774500 -26.075500      -1  \n",
       "2019-12-13  3899.705167 -12.051167       0  \n",
       "2019-12-16  3900.202333   2.600667       0  \n",
       "2019-12-17  3902.712000  19.162000       0  \n",
       "2019-12-18  3904.757000  35.413000       1  \n",
       "2019-12-19  3906.469833  48.479167       1  \n",
       "2019-12-20  3907.829833  58.605167       1  "
      ]
     },
     "execution_count": 50,
     "metadata": {},
     "output_type": "execute_result"
    }
   ],
   "source": [
    "hs300.tail(20)"
   ]
  },
  {
   "cell_type": "code",
   "execution_count": 51,
   "metadata": {},
   "outputs": [
    {
     "data": {
      "text/plain": [
       "<matplotlib.axes._subplots.AxesSubplot at 0x1a2e1e73d0>"
      ]
     },
     "execution_count": 51,
     "metadata": {},
     "output_type": "execute_result"
    },
    {
     "data": {
      "image/png": "[encoded data removed]",
      "text/plain": [
       "<Figure size 720x576 with 1 Axes>"
      ]
     },
     "metadata": {
      "needs_background": "light"
     },
     "output_type": "display_data"
    }
   ],
   "source": [
    "hs300['Market'] = np.log(hs300['price']/ hs300['price'].shift(1))\n",
    "hs300['Strategy'] = hs300['regime'].shift(1) * hs300['Market']\n",
    "hs300[['Market', 'Strategy']].cumsum().apply(np.exp).plot(grid=True, figsize=(10,8))"
   ]
  }
 ],
 "metadata": {
  "kernelspec": {
   "display_name": "Python 3",
   "language": "python",
   "name": "python3"
  },
  "language_info": {
   "codemirror_mode": {
    "name": "ipython",
    "version": 3
   },
   "file_extension": ".py",
   "mimetype": "text/x-python",
   "name": "python",
   "nbconvert_exporter": "python",
   "pygments_lexer": "ipython3",
   "version": "3.7.4"
  }
 },
 "nbformat": 4,
 "nbformat_minor": 2
}
